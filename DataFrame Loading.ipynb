{
 "cells": [
  {
   "cell_type": "markdown",
   "id": "9a6b785c",
   "metadata": {},
   "source": [
    "The function of this notebook is to load, clean and embed the dataframe to be used in the final model. The dataframe is then saved in a .csv file, which can be loaded in the final program. This achieves optimization in the final program and website deployment. "
   ]
  },
  {
   "cell_type": "code",
   "execution_count": 2,
   "id": "ce91ee95",
   "metadata": {},
   "outputs": [
    {
     "name": "stdout",
     "output_type": "stream",
     "text": [
      "WARNING:tensorflow:From C:\\Users\\karel\\AppData\\Local\\Packages\\PythonSoftwareFoundation.Python.3.11_qbz5n2kfra8p0\\LocalCache\\local-packages\\Python311\\site-packages\\tf_keras\\src\\losses.py:2976: The name tf.losses.sparse_softmax_cross_entropy is deprecated. Please use tf.compat.v1.losses.sparse_softmax_cross_entropy instead.\n",
      "\n"
     ]
    }
   ],
   "source": [
    "from pathlib import Path\n",
    "import kagglehub\n",
    "import pandas as pd\n",
    "import os\n",
    "import pickle\n",
    "from pathlib import Path\n",
    "import joblib\n",
    "import re\n",
    "from sentence_transformers import SentenceTransformer\n",
    "import warnings\n",
    "warnings.filterwarnings(\"ignore\")  # Suppress warnings for cleaner output\n",
    "import numpy as np\n",
    "from sklearn.metrics.pairwise import cosine_similarity\n",
    "from dotenv import load_dotenv\n",
    "import openai\n",
    "from datetime import datetime\n"
   ]
  },
  {
   "cell_type": "code",
   "execution_count": 10,
   "id": "3e790027",
   "metadata": {},
   "outputs": [
    {
     "name": "stdout",
     "output_type": "stream",
     "text": [
      "Shape of the combined dataframe: (67992, 10)\n",
      "                                                name       asins  \\\n",
      "0  All-New Fire HD 8 Tablet, 8 HD Display, Wi-Fi,...  B01AHB9CN2   \n",
      "1  All-New Fire HD 8 Tablet, 8 HD Display, Wi-Fi,...  B01AHB9CN2   \n",
      "2  All-New Fire HD 8 Tablet, 8 HD Display, Wi-Fi,...  B01AHB9CN2   \n",
      "3  All-New Fire HD 8 Tablet, 8 HD Display, Wi-Fi,...  B01AHB9CN2   \n",
      "4  All-New Fire HD 8 Tablet, 8 HD Display, Wi-Fi,...  B01AHB9CN2   \n",
      "\n",
      "                                          categories reviews.doRecommend  \\\n",
      "0  Electronics,iPad & Tablets,All Tablets,Fire Ta...                True   \n",
      "1  Electronics,iPad & Tablets,All Tablets,Fire Ta...                True   \n",
      "2  Electronics,iPad & Tablets,All Tablets,Fire Ta...                True   \n",
      "3  Electronics,iPad & Tablets,All Tablets,Fire Ta...                True   \n",
      "4  Electronics,iPad & Tablets,All Tablets,Fire Ta...                True   \n",
      "\n",
      "   reviews.numHelpful  reviews.rating  \\\n",
      "0                 0.0             5.0   \n",
      "1                 0.0             5.0   \n",
      "2                 0.0             5.0   \n",
      "3                 0.0             4.0   \n",
      "4                 0.0             5.0   \n",
      "\n",
      "                                        reviews.text  \\\n",
      "0  This product so far has not disappointed. My c...   \n",
      "1  great for beginner or experienced person. Boug...   \n",
      "2  Inexpensive tablet for him to use and learn on...   \n",
      "3  I've had my Fire HD 8 two weeks now and I love...   \n",
      "4  I bought this for my grand daughter when she c...   \n",
      "\n",
      "                             reviews.title  \\\n",
      "0                                   Kindle   \n",
      "1                                very fast   \n",
      "2  Beginner tablet for our 9 year old son.   \n",
      "3                                  Good!!!   \n",
      "4                Fantastic Tablet for kids   \n",
      "\n",
      "                                           imageURLs         meta_category  \n",
      "0  https://upload.wikimedia.org/wikipedia/commons...  Portable Electronics  \n",
      "1  https://upload.wikimedia.org/wikipedia/commons...  Portable Electronics  \n",
      "2  https://upload.wikimedia.org/wikipedia/commons...  Portable Electronics  \n",
      "3  https://upload.wikimedia.org/wikipedia/commons...  Portable Electronics  \n",
      "4  https://upload.wikimedia.org/wikipedia/commons...  Portable Electronics  \n"
     ]
    },
    {
     "data": {
      "application/vnd.jupyter.widget-view+json": {
       "model_id": "1b46239b87dd440a985f3f074e749560",
       "version_major": 2,
       "version_minor": 0
      },
      "text/plain": [
       "Batches:   0%|          | 0/2125 [00:00<?, ?it/s]"
      ]
     },
     "metadata": {},
     "output_type": "display_data"
    }
   ],
   "source": [
    "# Import libraries\n",
    "# Import all necessary libraries for this program\n",
    "\n",
    "\n",
    "\n",
    "# Download dataset\n",
    "path = kagglehub.dataset_download(\"datafiniti/consumer-reviews-of-amazon-products\")\n",
    "\n",
    "# Read CSV files\n",
    "file_path1 = os.path.join(path, \"1429_1.csv\")\n",
    "file_path2 = os.path.join(path, \"Datafiniti_Amazon_Consumer_Reviews_of_Amazon_Products.csv\")\n",
    "file_path3 = os.path.join(path, \"Datafiniti_Amazon_Consumer_Reviews_of_Amazon_Products_May19.csv\")\n",
    "df1 = pd.read_csv(file_path1)\n",
    "df2 = pd.read_csv(file_path2)\n",
    "df3 = pd.read_csv(file_path3)\n",
    "\n",
    "# Load pickle mapping\n",
    "\n",
    "pickle_file_path = Path.cwd() / \"Joblib_files\" / \"unique_categories_dict.pkl\"\n",
    "if not pickle_file_path.exists():\n",
    "    raise FileNotFoundError(f\"Missing pickle file: {pickle_file_path}\")\n",
    "with open(pickle_file_path, \"rb\") as f:\n",
    "    meta_category_mapping = pickle.load(f)\n",
    "\n",
    "# Filter and prepare data\n",
    "columns_df1 = ['name', 'asins', 'categories', 'reviews.doRecommend', 'reviews.numHelpful', 'reviews.rating', 'reviews.text', 'reviews.title']\n",
    "columns_other = columns_df1 + ['imageURLs']\n",
    "df1_filtered = df1[columns_df1]\n",
    "df1_filtered['imageURLs'] = \"https://upload.wikimedia.org/wikipedia/commons/a/ac/No_image_available.svg\"\n",
    "df2_filtered = df2[columns_other]\n",
    "df3_filtered = df3[columns_other]\n",
    "\n",
    "# Combine the dataframes, and map the meta-categories that we extracted via the clustering model to the 'categories' column\n",
    "df_combined = pd.concat([df1_filtered, df2_filtered, df3_filtered], ignore_index=True)\n",
    "df_combined['meta_category'] = df_combined['categories'].map(meta_category_mapping).fillna(\"Unknown\")\n",
    "\n",
    "# Print output of the combined dataframe\n",
    "print(\"Shape of the combined dataframe:\", df_combined.shape)\n",
    "print(df_combined.head())\n",
    "\n",
    "\n",
    "# First we need to clean the data with our data cleaning function, taking into account that the reviews.text column is a string but might contain floats\n",
    "# Clean the review text column and append the cleaned text to a new column, given the size of the dataset this will not increase the model runtime significantly\n",
    "def light_clean(text):\n",
    "    if isinstance(text, float):\n",
    "        text = str(text)  # Convert float to string\n",
    "    text = text.strip()\n",
    "    text = re.sub(r\"\\s+\", \" \", text)  # normalize whitespace\n",
    "    return text\n",
    "\n",
    "df_combined[\"cleaned_text\"] = df_combined[\"reviews.text\"].apply(light_clean)\n",
    "\n",
    "# Then we convert the relevant columns of the dataframe to word embeddings using a pre-trained sentence transformer model. We use a sentence transformer as these are designed \n",
    "# to work well with natural, unaltered sentences and are trained on a large corpus of text data, making them suitable for generating embeddings for a wide range of text inputs.\n",
    "\n",
    "model = SentenceTransformer('all-MiniLM-L6-v2')\n",
    "# Generate embeddings for the cleaned review text\n",
    "embeddings = model.encode(df_combined[\"cleaned_text\"].tolist(), show_progress_bar=True, convert_to_tensor= True, device='cuda')\n",
    "# Append the embeddings to the dataframe\n",
    "df_combined[\"embeddings\"] = embeddings.tolist()"
   ]
  },
  {
   "cell_type": "code",
   "execution_count": 11,
   "id": "9597e9d8",
   "metadata": {},
   "outputs": [],
   "source": [
    "# Save the combined dataframe with embeddings to a CSV file\n",
    "output_file_path = Path.cwd() / \"Joblib_files\" / \"amazon_reviews_with_embeddings.csv\"\n",
    "df_combined.to_csv(output_file_path, index=False)"
   ]
  },
  {
   "cell_type": "code",
   "execution_count": 15,
   "id": "210d259d",
   "metadata": {},
   "outputs": [
    {
     "name": "stdout",
     "output_type": "stream",
     "text": [
      "OpenAI API key loaded successfully.\n"
     ]
    }
   ],
   "source": [
    "load_dotenv()  # Load environment variables from .env file\n",
    "\n",
    "# Use the standard environment variable name for OpenAI API key\n",
    "api_key = os.getenv(\"OPENAI_TEST_KEY_KdR\")\n",
    "if not api_key:\n",
    "    raise ValueError(\"OpenAI API key not found. Please set the OPENAI_TEST_KEY_KdR environment variable.\")\n",
    "\n",
    "client = openai.OpenAI(api_key=api_key)\n",
    "\n",
    "# Print the OpenAI API key to confirm it is loaded correctly (for debugging, remove in production)\n",
    "print(\"OpenAI API key loaded successfully.\")"
   ]
  },
  {
   "cell_type": "code",
   "execution_count": 14,
   "id": "296d9d48",
   "metadata": {},
   "outputs": [],
   "source": [
    "# Combine all the dataframes that contain the final model output into a single dataframe, that can be loaded into the website\n",
    "files_to_load = [\"Batteries_Summary.csv\", \"Connected_Home_Electronics.csv\", \"Kitchen_Storage_Summary.csv\", \n",
    "                  \"Office_Supplies_Summary.csv\", \"Pet_Products_Summary.csv\", \"Portable_Electronics.csv\"]\n",
    "\n",
    "# Load each file to load and concatenate them into a single dataframe\n",
    "dataframes = []\n",
    "for file_name in files_to_load:\n",
    "    file_path = Path.cwd() / \"Product Summaries\" / file_name\n",
    "    if not file_path.exists():\n",
    "        print(f\"File {file_name} does not exist, skipping.\")\n",
    "        continue\n",
    "    df = pd.read_csv(file_path)\n",
    "    dataframes.append(df)\n",
    "\n",
    "# Concatenate all dataframes into a single dataframe\n",
    "Summaries_df = pd.concat(dataframes, ignore_index=True)\n",
    "# Save the combined dataframe to a CSV file\n",
    "output_summaries_path = Path.cwd() / \"Product Summaries\" / \"Summaries Combined.csv\"\n",
    "Summaries_df.to_csv(output_summaries_path, index=False)\n",
    "\n"
   ]
  },
  {
   "cell_type": "code",
   "execution_count": 24,
   "id": "da0786ac",
   "metadata": {},
   "outputs": [
    {
     "name": "stderr",
     "output_type": "stream",
     "text": [
      "Calculating ROUGE scores by category: 100%|██████████| 16/16 [00:00<00:00, 134.97it/s]"
     ]
    },
    {
     "name": "stdout",
     "output_type": "stream",
     "text": [
      "                     category  \\\n",
      "0                   Batteries   \n",
      "1                   Batteries   \n",
      "2  Connected Home Electronics   \n",
      "3  Connected Home Electronics   \n",
      "4  Connected Home Electronics   \n",
      "\n",
      "                                             summary  \\\n",
      "0  Customers generally find AmazonBasics AAA Perf...   \n",
      "1  The AmazonBasics AA Performance Alkaline Batte...   \n",
      "2  The Amazon Echo Plus with Built-In Hub in Silv...   \n",
      "3  The Amazon Echo Show receives high praise for ...   \n",
      "4  The Echo (White) has received very positive re...   \n",
      "\n",
      "                                             rouge-1  \\\n",
      "0  {'r': 0.1951219512195122, 'p': 0.1379310344827...   \n",
      "1                     {'r': 0.0, 'p': 0.0, 'f': 0.0}   \n",
      "2  {'r': 0.18181818181818182, 'p': 0.032786885245...   \n",
      "3  {'r': 0.14545454545454545, 'p': 0.140350877192...   \n",
      "4  {'r': 0.2727272727272727, 'p': 0.0517241379310...   \n",
      "\n",
      "                                             rouge-2  \\\n",
      "0  {'r': 0.02127659574468085, 'p': 0.015151515151...   \n",
      "1                     {'r': 0.0, 'p': 0.0, 'f': 0.0}   \n",
      "2                     {'r': 0.0, 'p': 0.0, 'f': 0.0}   \n",
      "3                     {'r': 0.0, 'p': 0.0, 'f': 0.0}   \n",
      "4                     {'r': 0.0, 'p': 0.0, 'f': 0.0}   \n",
      "\n",
      "                                             rouge-l  \n",
      "0  {'r': 0.1951219512195122, 'p': 0.1379310344827...  \n",
      "1                     {'r': 0.0, 'p': 0.0, 'f': 0.0}  \n",
      "2  {'r': 0.09090909090909091, 'p': 0.016393442622...  \n",
      "3  {'r': 0.14545454545454545, 'p': 0.140350877192...  \n",
      "4  {'r': 0.2727272727272727, 'p': 0.0517241379310...  \n"
     ]
    },
    {
     "name": "stderr",
     "output_type": "stream",
     "text": [
      "\n"
     ]
    }
   ],
   "source": [
    "from rouge import Rouge\n",
    "import pandas as pd\n",
    "from tqdm import tqdm\n",
    "import numpy as np\n",
    "\n",
    "# Normalize column names\n",
    "df_combined = df_combined.rename(columns={\n",
    "    'meta-category': 'category',  # fix this if needed\n",
    "    'meta_category': 'category',\n",
    "    'reviews.text': 'reviews_text',\n",
    "    'reviews_text': 'reviews_text'  # handles both cases safely\n",
    "})\n",
    "\n",
    "# Drop rows with missing reference reviews\n",
    "df_combined = df_combined.dropna(subset=['reviews_text'])\n",
    "Summaries_df = Summaries_df.rename(columns={'category': 'category'})  # make sure it's named 'category'\n",
    "Summaries_df = Summaries_df.reset_index(drop=True)\n",
    "\n",
    "# Initialize ROUGE\n",
    "rouge = Rouge()\n",
    "rouge_scores = []\n",
    "\n",
    "# Loop through summaries and match by category\n",
    "for i in tqdm(range(len(Summaries_df)), desc=\"Calculating ROUGE scores by category\"):\n",
    "    summary = Summaries_df.loc[i, 'summary']\n",
    "    category = Summaries_df.loc[i, 'category']\n",
    "    \n",
    "    # Filter for same-category reference reviews\n",
    "    candidate_refs = df_combined[df_combined['category'] == category]['reviews_text'].dropna()\n",
    "    \n",
    "    if candidate_refs.empty or pd.isna(summary) or not summary.strip():\n",
    "        rouge_scores.append(None)\n",
    "        continue\n",
    "\n",
    "    # Sample one reference review from the same category\n",
    "    reference = candidate_refs.sample(n=1, random_state=np.random.randint(0, 10000)).values[0]\n",
    "\n",
    "    try:\n",
    "        scores = rouge.get_scores(summary, reference)\n",
    "        rouge_scores.append(scores[0])\n",
    "    except Exception as e:\n",
    "        print(f\"Error at index {i}: {e}\")\n",
    "        rouge_scores.append(None)\n",
    "\n",
    "# Format and attach\n",
    "rouge_df = pd.DataFrame(rouge_scores)\n",
    "Summaries_df[['rouge-1', 'rouge-2', 'rouge-l']] = rouge_df[['rouge-1', 'rouge-2', 'rouge-l']]\n",
    "\n",
    "# Sample output\n",
    "print(Summaries_df[['category', 'summary', 'rouge-1', 'rouge-2', 'rouge-l']].head())\n"
   ]
  },
  {
   "cell_type": "code",
   "execution_count": 25,
   "id": "6387a6c9",
   "metadata": {},
   "outputs": [
    {
     "ename": "TypeError",
     "evalue": "unhashable type: 'dict'",
     "output_type": "error",
     "traceback": [
      "\u001b[31m---------------------------------------------------------------------------\u001b[39m",
      "\u001b[31mTypeError\u001b[39m                                 Traceback (most recent call last)",
      "\u001b[36mCell\u001b[39m\u001b[36m \u001b[39m\u001b[32mIn[25]\u001b[39m\u001b[32m, line 14\u001b[39m\n\u001b[32m     12\u001b[39m     plt.show()\n\u001b[32m     13\u001b[39m \u001b[38;5;66;03m# Plot each ROUGE score\u001b[39;00m\n\u001b[32m---> \u001b[39m\u001b[32m14\u001b[39m \u001b[43mplot_rouge_scores\u001b[49m\u001b[43m(\u001b[49m\u001b[43mSummaries_df\u001b[49m\u001b[43m,\u001b[49m\u001b[43m \u001b[49m\u001b[33;43m'\u001b[39;49m\u001b[33;43mrouge-1\u001b[39;49m\u001b[33;43m'\u001b[39;49m\u001b[43m)\u001b[49m\n\u001b[32m     15\u001b[39m plot_rouge_scores(Summaries_df, \u001b[33m'\u001b[39m\u001b[33mrouge-2\u001b[39m\u001b[33m'\u001b[39m)\n",
      "\u001b[36mCell\u001b[39m\u001b[36m \u001b[39m\u001b[32mIn[25]\u001b[39m\u001b[32m, line 6\u001b[39m, in \u001b[36mplot_rouge_scores\u001b[39m\u001b[34m(df, score_type)\u001b[39m\n\u001b[32m      4\u001b[39m \u001b[38;5;28;01mdef\u001b[39;00m\u001b[38;5;250m \u001b[39m\u001b[34mplot_rouge_scores\u001b[39m(df, score_type):\n\u001b[32m      5\u001b[39m     plt.figure(figsize=(\u001b[32m12\u001b[39m, \u001b[32m6\u001b[39m))\n\u001b[32m----> \u001b[39m\u001b[32m6\u001b[39m     \u001b[43mplt\u001b[49m\u001b[43m.\u001b[49m\u001b[43mbar\u001b[49m\u001b[43m(\u001b[49m\u001b[43mdf\u001b[49m\u001b[43m[\u001b[49m\u001b[33;43m'\u001b[39;49m\u001b[33;43mcategory\u001b[39;49m\u001b[33;43m'\u001b[39;49m\u001b[43m]\u001b[49m\u001b[43m,\u001b[49m\u001b[43m \u001b[49m\u001b[43mdf\u001b[49m\u001b[43m[\u001b[49m\u001b[43mscore_type\u001b[49m\u001b[43m]\u001b[49m\u001b[43m,\u001b[49m\u001b[43m \u001b[49m\u001b[43mcolor\u001b[49m\u001b[43m=\u001b[49m\u001b[33;43m'\u001b[39;49m\u001b[33;43mskyblue\u001b[39;49m\u001b[33;43m'\u001b[39;49m\u001b[43m)\u001b[49m\n\u001b[32m      7\u001b[39m     plt.xlabel(\u001b[33m'\u001b[39m\u001b[33mCategory\u001b[39m\u001b[33m'\u001b[39m)\n\u001b[32m      8\u001b[39m     plt.ylabel(score_type)\n",
      "\u001b[36mFile \u001b[39m\u001b[32m~\\AppData\\Local\\Packages\\PythonSoftwareFoundation.Python.3.11_qbz5n2kfra8p0\\LocalCache\\local-packages\\Python311\\site-packages\\matplotlib\\pyplot.py:2979\u001b[39m, in \u001b[36mbar\u001b[39m\u001b[34m(x, height, width, bottom, align, data, **kwargs)\u001b[39m\n\u001b[32m   2968\u001b[39m \u001b[38;5;129m@_copy_docstring_and_deprecators\u001b[39m(Axes.bar)\n\u001b[32m   2969\u001b[39m \u001b[38;5;28;01mdef\u001b[39;00m\u001b[38;5;250m \u001b[39m\u001b[34mbar\u001b[39m(\n\u001b[32m   2970\u001b[39m     x: \u001b[38;5;28mfloat\u001b[39m | ArrayLike,\n\u001b[32m   (...)\u001b[39m\u001b[32m   2977\u001b[39m     **kwargs,\n\u001b[32m   2978\u001b[39m ) -> BarContainer:\n\u001b[32m-> \u001b[39m\u001b[32m2979\u001b[39m     \u001b[38;5;28;01mreturn\u001b[39;00m \u001b[43mgca\u001b[49m\u001b[43m(\u001b[49m\u001b[43m)\u001b[49m\u001b[43m.\u001b[49m\u001b[43mbar\u001b[49m\u001b[43m(\u001b[49m\n\u001b[32m   2980\u001b[39m \u001b[43m        \u001b[49m\u001b[43mx\u001b[49m\u001b[43m,\u001b[49m\n\u001b[32m   2981\u001b[39m \u001b[43m        \u001b[49m\u001b[43mheight\u001b[49m\u001b[43m,\u001b[49m\n\u001b[32m   2982\u001b[39m \u001b[43m        \u001b[49m\u001b[43mwidth\u001b[49m\u001b[43m=\u001b[49m\u001b[43mwidth\u001b[49m\u001b[43m,\u001b[49m\n\u001b[32m   2983\u001b[39m \u001b[43m        \u001b[49m\u001b[43mbottom\u001b[49m\u001b[43m=\u001b[49m\u001b[43mbottom\u001b[49m\u001b[43m,\u001b[49m\n\u001b[32m   2984\u001b[39m \u001b[43m        \u001b[49m\u001b[43malign\u001b[49m\u001b[43m=\u001b[49m\u001b[43malign\u001b[49m\u001b[43m,\u001b[49m\n\u001b[32m   2985\u001b[39m \u001b[43m        \u001b[49m\u001b[43m*\u001b[49m\u001b[43m*\u001b[49m\u001b[43m(\u001b[49m\u001b[43m{\u001b[49m\u001b[33;43m\"\u001b[39;49m\u001b[33;43mdata\u001b[39;49m\u001b[33;43m\"\u001b[39;49m\u001b[43m:\u001b[49m\u001b[43m \u001b[49m\u001b[43mdata\u001b[49m\u001b[43m}\u001b[49m\u001b[43m \u001b[49m\u001b[38;5;28;43;01mif\u001b[39;49;00m\u001b[43m \u001b[49m\u001b[43mdata\u001b[49m\u001b[43m \u001b[49m\u001b[38;5;129;43;01mis\u001b[39;49;00m\u001b[43m \u001b[49m\u001b[38;5;129;43;01mnot\u001b[39;49;00m\u001b[43m \u001b[49m\u001b[38;5;28;43;01mNone\u001b[39;49;00m\u001b[43m \u001b[49m\u001b[38;5;28;43;01melse\u001b[39;49;00m\u001b[43m \u001b[49m\u001b[43m{\u001b[49m\u001b[43m}\u001b[49m\u001b[43m)\u001b[49m\u001b[43m,\u001b[49m\n\u001b[32m   2986\u001b[39m \u001b[43m        \u001b[49m\u001b[43m*\u001b[49m\u001b[43m*\u001b[49m\u001b[43mkwargs\u001b[49m\u001b[43m,\u001b[49m\n\u001b[32m   2987\u001b[39m \u001b[43m    \u001b[49m\u001b[43m)\u001b[49m\n",
      "\u001b[36mFile \u001b[39m\u001b[32m~\\AppData\\Local\\Packages\\PythonSoftwareFoundation.Python.3.11_qbz5n2kfra8p0\\LocalCache\\local-packages\\Python311\\site-packages\\matplotlib\\__init__.py:1521\u001b[39m, in \u001b[36m_preprocess_data.<locals>.inner\u001b[39m\u001b[34m(ax, data, *args, **kwargs)\u001b[39m\n\u001b[32m   1518\u001b[39m \u001b[38;5;129m@functools\u001b[39m.wraps(func)\n\u001b[32m   1519\u001b[39m \u001b[38;5;28;01mdef\u001b[39;00m\u001b[38;5;250m \u001b[39m\u001b[34minner\u001b[39m(ax, *args, data=\u001b[38;5;28;01mNone\u001b[39;00m, **kwargs):\n\u001b[32m   1520\u001b[39m     \u001b[38;5;28;01mif\u001b[39;00m data \u001b[38;5;129;01mis\u001b[39;00m \u001b[38;5;28;01mNone\u001b[39;00m:\n\u001b[32m-> \u001b[39m\u001b[32m1521\u001b[39m         \u001b[38;5;28;01mreturn\u001b[39;00m \u001b[43mfunc\u001b[49m\u001b[43m(\u001b[49m\n\u001b[32m   1522\u001b[39m \u001b[43m            \u001b[49m\u001b[43max\u001b[49m\u001b[43m,\u001b[49m\n\u001b[32m   1523\u001b[39m \u001b[43m            \u001b[49m\u001b[43m*\u001b[49m\u001b[38;5;28;43mmap\u001b[39;49m\u001b[43m(\u001b[49m\u001b[43mcbook\u001b[49m\u001b[43m.\u001b[49m\u001b[43msanitize_sequence\u001b[49m\u001b[43m,\u001b[49m\u001b[43m \u001b[49m\u001b[43margs\u001b[49m\u001b[43m)\u001b[49m\u001b[43m,\u001b[49m\n\u001b[32m   1524\u001b[39m \u001b[43m            \u001b[49m\u001b[43m*\u001b[49m\u001b[43m*\u001b[49m\u001b[43m{\u001b[49m\u001b[43mk\u001b[49m\u001b[43m:\u001b[49m\u001b[43m \u001b[49m\u001b[43mcbook\u001b[49m\u001b[43m.\u001b[49m\u001b[43msanitize_sequence\u001b[49m\u001b[43m(\u001b[49m\u001b[43mv\u001b[49m\u001b[43m)\u001b[49m\u001b[43m \u001b[49m\u001b[38;5;28;43;01mfor\u001b[39;49;00m\u001b[43m \u001b[49m\u001b[43mk\u001b[49m\u001b[43m,\u001b[49m\u001b[43m \u001b[49m\u001b[43mv\u001b[49m\u001b[43m \u001b[49m\u001b[38;5;129;43;01min\u001b[39;49;00m\u001b[43m \u001b[49m\u001b[43mkwargs\u001b[49m\u001b[43m.\u001b[49m\u001b[43mitems\u001b[49m\u001b[43m(\u001b[49m\u001b[43m)\u001b[49m\u001b[43m}\u001b[49m\u001b[43m)\u001b[49m\n\u001b[32m   1526\u001b[39m     bound = new_sig.bind(ax, *args, **kwargs)\n\u001b[32m   1527\u001b[39m     auto_label = (bound.arguments.get(label_namer)\n\u001b[32m   1528\u001b[39m                   \u001b[38;5;129;01mor\u001b[39;00m bound.kwargs.get(label_namer))\n",
      "\u001b[36mFile \u001b[39m\u001b[32m~\\AppData\\Local\\Packages\\PythonSoftwareFoundation.Python.3.11_qbz5n2kfra8p0\\LocalCache\\local-packages\\Python311\\site-packages\\matplotlib\\axes\\_axes.py:2555\u001b[39m, in \u001b[36mAxes.bar\u001b[39m\u001b[34m(self, x, height, width, bottom, align, **kwargs)\u001b[39m\n\u001b[32m   2549\u001b[39m         x = \u001b[32m0\u001b[39m\n\u001b[32m   2551\u001b[39m \u001b[38;5;28;01mif\u001b[39;00m orientation == \u001b[33m'\u001b[39m\u001b[33mvertical\u001b[39m\u001b[33m'\u001b[39m:\n\u001b[32m   2552\u001b[39m     \u001b[38;5;66;03m# It is possible for y (bottom) to contain unit information.\u001b[39;00m\n\u001b[32m   2553\u001b[39m     \u001b[38;5;66;03m# However, it is also possible for y=0 for the default and height\u001b[39;00m\n\u001b[32m   2554\u001b[39m     \u001b[38;5;66;03m# to contain unit information.  This will prioritize the units of y.\u001b[39;00m\n\u001b[32m-> \u001b[39m\u001b[32m2555\u001b[39m     \u001b[38;5;28;43mself\u001b[39;49m\u001b[43m.\u001b[49m\u001b[43m_process_unit_info\u001b[49m\u001b[43m(\u001b[49m\n\u001b[32m   2556\u001b[39m \u001b[43m        \u001b[49m\u001b[43m[\u001b[49m\u001b[43m(\u001b[49m\u001b[33;43m\"\u001b[39;49m\u001b[33;43mx\u001b[39;49m\u001b[33;43m\"\u001b[39;49m\u001b[43m,\u001b[49m\u001b[43m \u001b[49m\u001b[43mx\u001b[49m\u001b[43m)\u001b[49m\u001b[43m,\u001b[49m\u001b[43m \u001b[49m\u001b[43m(\u001b[49m\u001b[33;43m\"\u001b[39;49m\u001b[33;43my\u001b[39;49m\u001b[33;43m\"\u001b[39;49m\u001b[43m,\u001b[49m\u001b[43m \u001b[49m\u001b[43my\u001b[49m\u001b[43m)\u001b[49m\u001b[43m,\u001b[49m\u001b[43m \u001b[49m\u001b[43m(\u001b[49m\u001b[33;43m\"\u001b[39;49m\u001b[33;43my\u001b[39;49m\u001b[33;43m\"\u001b[39;49m\u001b[43m,\u001b[49m\u001b[43m \u001b[49m\u001b[43mheight\u001b[49m\u001b[43m)\u001b[49m\u001b[43m]\u001b[49m\u001b[43m,\u001b[49m\u001b[43m \u001b[49m\u001b[43mkwargs\u001b[49m\u001b[43m,\u001b[49m\u001b[43m \u001b[49m\u001b[43mconvert\u001b[49m\u001b[43m=\u001b[49m\u001b[38;5;28;43;01mFalse\u001b[39;49;00m\u001b[43m)\u001b[49m\n\u001b[32m   2557\u001b[39m     \u001b[38;5;28;01mif\u001b[39;00m log:\n\u001b[32m   2558\u001b[39m         \u001b[38;5;28mself\u001b[39m.set_yscale(\u001b[33m'\u001b[39m\u001b[33mlog\u001b[39m\u001b[33m'\u001b[39m, nonpositive=\u001b[33m'\u001b[39m\u001b[33mclip\u001b[39m\u001b[33m'\u001b[39m)\n",
      "\u001b[36mFile \u001b[39m\u001b[32m~\\AppData\\Local\\Packages\\PythonSoftwareFoundation.Python.3.11_qbz5n2kfra8p0\\LocalCache\\local-packages\\Python311\\site-packages\\matplotlib\\axes\\_base.py:2647\u001b[39m, in \u001b[36m_AxesBase._process_unit_info\u001b[39m\u001b[34m(self, datasets, kwargs, convert)\u001b[39m\n\u001b[32m   2645\u001b[39m     \u001b[38;5;66;03m# Update from data if axis is already set but no unit is set yet.\u001b[39;00m\n\u001b[32m   2646\u001b[39m     \u001b[38;5;28;01mif\u001b[39;00m axis \u001b[38;5;129;01mis\u001b[39;00m \u001b[38;5;129;01mnot\u001b[39;00m \u001b[38;5;28;01mNone\u001b[39;00m \u001b[38;5;129;01mand\u001b[39;00m data \u001b[38;5;129;01mis\u001b[39;00m \u001b[38;5;129;01mnot\u001b[39;00m \u001b[38;5;28;01mNone\u001b[39;00m \u001b[38;5;129;01mand\u001b[39;00m \u001b[38;5;129;01mnot\u001b[39;00m axis.have_units():\n\u001b[32m-> \u001b[39m\u001b[32m2647\u001b[39m         \u001b[43maxis\u001b[49m\u001b[43m.\u001b[49m\u001b[43mupdate_units\u001b[49m\u001b[43m(\u001b[49m\u001b[43mdata\u001b[49m\u001b[43m)\u001b[49m\n\u001b[32m   2648\u001b[39m \u001b[38;5;28;01mfor\u001b[39;00m axis_name, axis \u001b[38;5;129;01min\u001b[39;00m axis_map.items():\n\u001b[32m   2649\u001b[39m     \u001b[38;5;66;03m# Return if no axis is set.\u001b[39;00m\n\u001b[32m   2650\u001b[39m     \u001b[38;5;28;01mif\u001b[39;00m axis \u001b[38;5;129;01mis\u001b[39;00m \u001b[38;5;28;01mNone\u001b[39;00m:\n",
      "\u001b[36mFile \u001b[39m\u001b[32m~\\AppData\\Local\\Packages\\PythonSoftwareFoundation.Python.3.11_qbz5n2kfra8p0\\LocalCache\\local-packages\\Python311\\site-packages\\matplotlib\\axis.py:1754\u001b[39m, in \u001b[36mAxis.update_units\u001b[39m\u001b[34m(self, data)\u001b[39m\n\u001b[32m   1752\u001b[39m neednew = \u001b[38;5;28mself\u001b[39m._converter != converter\n\u001b[32m   1753\u001b[39m \u001b[38;5;28mself\u001b[39m._set_converter(converter)\n\u001b[32m-> \u001b[39m\u001b[32m1754\u001b[39m default = \u001b[38;5;28;43mself\u001b[39;49m\u001b[43m.\u001b[49m\u001b[43m_converter\u001b[49m\u001b[43m.\u001b[49m\u001b[43mdefault_units\u001b[49m\u001b[43m(\u001b[49m\u001b[43mdata\u001b[49m\u001b[43m,\u001b[49m\u001b[43m \u001b[49m\u001b[38;5;28;43mself\u001b[39;49m\u001b[43m)\u001b[49m\n\u001b[32m   1755\u001b[39m \u001b[38;5;28;01mif\u001b[39;00m default \u001b[38;5;129;01mis\u001b[39;00m \u001b[38;5;129;01mnot\u001b[39;00m \u001b[38;5;28;01mNone\u001b[39;00m \u001b[38;5;129;01mand\u001b[39;00m \u001b[38;5;28mself\u001b[39m.units \u001b[38;5;129;01mis\u001b[39;00m \u001b[38;5;28;01mNone\u001b[39;00m:\n\u001b[32m   1756\u001b[39m     \u001b[38;5;28mself\u001b[39m.set_units(default)\n",
      "\u001b[36mFile \u001b[39m\u001b[32m~\\AppData\\Local\\Packages\\PythonSoftwareFoundation.Python.3.11_qbz5n2kfra8p0\\LocalCache\\local-packages\\Python311\\site-packages\\matplotlib\\category.py:106\u001b[39m, in \u001b[36mStrCategoryConverter.default_units\u001b[39m\u001b[34m(data, axis)\u001b[39m\n\u001b[32m    104\u001b[39m \u001b[38;5;66;03m# the conversion call stack is default_units -> axis_info -> convert\u001b[39;00m\n\u001b[32m    105\u001b[39m \u001b[38;5;28;01mif\u001b[39;00m axis.units \u001b[38;5;129;01mis\u001b[39;00m \u001b[38;5;28;01mNone\u001b[39;00m:\n\u001b[32m--> \u001b[39m\u001b[32m106\u001b[39m     axis.set_units(\u001b[43mUnitData\u001b[49m\u001b[43m(\u001b[49m\u001b[43mdata\u001b[49m\u001b[43m)\u001b[49m)\n\u001b[32m    107\u001b[39m \u001b[38;5;28;01melse\u001b[39;00m:\n\u001b[32m    108\u001b[39m     axis.units.update(data)\n",
      "\u001b[36mFile \u001b[39m\u001b[32m~\\AppData\\Local\\Packages\\PythonSoftwareFoundation.Python.3.11_qbz5n2kfra8p0\\LocalCache\\local-packages\\Python311\\site-packages\\matplotlib\\category.py:182\u001b[39m, in \u001b[36mUnitData.__init__\u001b[39m\u001b[34m(self, data)\u001b[39m\n\u001b[32m    180\u001b[39m \u001b[38;5;28mself\u001b[39m._counter = itertools.count()\n\u001b[32m    181\u001b[39m \u001b[38;5;28;01mif\u001b[39;00m data \u001b[38;5;129;01mis\u001b[39;00m \u001b[38;5;129;01mnot\u001b[39;00m \u001b[38;5;28;01mNone\u001b[39;00m:\n\u001b[32m--> \u001b[39m\u001b[32m182\u001b[39m     \u001b[38;5;28;43mself\u001b[39;49m\u001b[43m.\u001b[49m\u001b[43mupdate\u001b[49m\u001b[43m(\u001b[49m\u001b[43mdata\u001b[49m\u001b[43m)\u001b[49m\n",
      "\u001b[36mFile \u001b[39m\u001b[32m~\\AppData\\Local\\Packages\\PythonSoftwareFoundation.Python.3.11_qbz5n2kfra8p0\\LocalCache\\local-packages\\Python311\\site-packages\\matplotlib\\category.py:215\u001b[39m, in \u001b[36mUnitData.update\u001b[39m\u001b[34m(self, data)\u001b[39m\n\u001b[32m    213\u001b[39m \u001b[38;5;66;03m# check if convertible to number:\u001b[39;00m\n\u001b[32m    214\u001b[39m convertible = \u001b[38;5;28;01mTrue\u001b[39;00m\n\u001b[32m--> \u001b[39m\u001b[32m215\u001b[39m \u001b[38;5;28;01mfor\u001b[39;00m val \u001b[38;5;129;01min\u001b[39;00m \u001b[43mOrderedDict\u001b[49m\u001b[43m.\u001b[49m\u001b[43mfromkeys\u001b[49m\u001b[43m(\u001b[49m\u001b[43mdata\u001b[49m\u001b[43m)\u001b[49m:\n\u001b[32m    216\u001b[39m     \u001b[38;5;66;03m# OrderedDict just iterates over unique values in data.\u001b[39;00m\n\u001b[32m    217\u001b[39m     _api.check_isinstance((\u001b[38;5;28mstr\u001b[39m, \u001b[38;5;28mbytes\u001b[39m), value=val)\n\u001b[32m    218\u001b[39m     \u001b[38;5;28;01mif\u001b[39;00m convertible:\n\u001b[32m    219\u001b[39m         \u001b[38;5;66;03m# this will only be called so long as convertible is True.\u001b[39;00m\n",
      "\u001b[31mTypeError\u001b[39m: unhashable type: 'dict'"
     ]
    },
    {
     "data": {
      "image/png": "[encoded data removed]",
      "text/plain": [
       "<Figure size 1200x600 with 1 Axes>"
      ]
     },
     "metadata": {},
     "output_type": "display_data"
    }
   ],
   "source": [
    "# Visualize the ROUGE scores\n",
    "import matplotlib.pyplot as plt\n",
    "# Plotting ROUGE scores\n",
    "def plot_rouge_scores(df, score_type):\n",
    "    plt.figure(figsize=(12, 6))\n",
    "    plt.bar(df['category'], df[score_type], color='skyblue')\n",
    "    plt.xlabel('Category')\n",
    "    plt.ylabel(score_type)\n",
    "    plt.title(f'ROUGE {score_type} Scores by Category')\n",
    "    plt.xticks(rotation=45, ha='right')\n",
    "    plt.tight_layout()\n",
    "    plt.show()\n",
    "# Plot each ROUGE score\n",
    "plot_rouge_scores(Summaries_df, 'rouge-1')\n",
    "plot_rouge_scores(Summaries_df, 'rouge-2')\n"
   ]
  }
 ],
 "metadata": {
  "kernelspec": {
   "display_name": "Python 3",
   "language": "python",
   "name": "python3"
  },
  "language_info": {
   "codemirror_mode": {
    "name": "ipython",
    "version": 3
   },
   "file_extension": ".py",
   "mimetype": "text/x-python",
   "name": "python",
   "nbconvert_exporter": "python",
   "pygments_lexer": "ipython3",
   "version": "3.11.9"
  }
 },
 "nbformat": 4,
 "nbformat_minor": 5
}
