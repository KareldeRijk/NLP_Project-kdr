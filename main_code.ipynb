{
 "cells": [
  {
   "cell_type": "code",
   "execution_count": 74,
   "id": "69c63038",
   "metadata": {},
   "outputs": [
    {
     "name": "stdout",
     "output_type": "stream",
     "text": [
      "✅ Loaded 28,332 rows\n"
     ]
    },
    {
     "data": {
      "text/html": [
       "<div>\n",
       "<style scoped>\n",
       "    .dataframe tbody tr th:only-of-type {\n",
       "        vertical-align: middle;\n",
       "    }\n",
       "\n",
       "    .dataframe tbody tr th {\n",
       "        vertical-align: top;\n",
       "    }\n",
       "\n",
       "    .dataframe thead th {\n",
       "        text-align: right;\n",
       "    }\n",
       "</style>\n",
       "<table border=\"1\" class=\"dataframe\">\n",
       "  <thead>\n",
       "    <tr style=\"text-align: right;\">\n",
       "      <th></th>\n",
       "      <th>id</th>\n",
       "      <th>dateAdded</th>\n",
       "      <th>dateUpdated</th>\n",
       "      <th>name</th>\n",
       "      <th>asins</th>\n",
       "      <th>brand</th>\n",
       "      <th>categories</th>\n",
       "      <th>primaryCategories</th>\n",
       "      <th>imageURLs</th>\n",
       "      <th>keys</th>\n",
       "      <th>...</th>\n",
       "      <th>reviews.didPurchase</th>\n",
       "      <th>reviews.doRecommend</th>\n",
       "      <th>reviews.id</th>\n",
       "      <th>reviews.numHelpful</th>\n",
       "      <th>reviews.rating</th>\n",
       "      <th>reviews.sourceURLs</th>\n",
       "      <th>reviews.text</th>\n",
       "      <th>reviews.title</th>\n",
       "      <th>reviews.username</th>\n",
       "      <th>sourceURLs</th>\n",
       "    </tr>\n",
       "  </thead>\n",
       "  <tbody>\n",
       "    <tr>\n",
       "      <th>0</th>\n",
       "      <td>AVpgNzjwLJeJML43Kpxn</td>\n",
       "      <td>2015-10-30T08:59:32Z</td>\n",
       "      <td>2019-04-25T09:08:16Z</td>\n",
       "      <td>AmazonBasics AAA Performance Alkaline Batterie...</td>\n",
       "      <td>B00QWO9P0O,B00LH3DMUO</td>\n",
       "      <td>Amazonbasics</td>\n",
       "      <td>AA,AAA,Health,Electronics,Health &amp; Household,C...</td>\n",
       "      <td>Health &amp; Beauty</td>\n",
       "      <td>https://images-na.ssl-images-amazon.com/images...</td>\n",
       "      <td>amazonbasics/hl002619,amazonbasicsaaaperforman...</td>\n",
       "      <td>...</td>\n",
       "      <td>NaN</td>\n",
       "      <td>NaN</td>\n",
       "      <td>NaN</td>\n",
       "      <td>NaN</td>\n",
       "      <td>3</td>\n",
       "      <td>https://www.amazon.com/product-reviews/B00QWO9...</td>\n",
       "      <td>I order 3 of them and one of the item is bad q...</td>\n",
       "      <td>... 3 of them and one of the item is bad quali...</td>\n",
       "      <td>Byger yang</td>\n",
       "      <td>https://www.barcodable.com/upc/841710106442,ht...</td>\n",
       "    </tr>\n",
       "    <tr>\n",
       "      <th>1</th>\n",
       "      <td>AVpgNzjwLJeJML43Kpxn</td>\n",
       "      <td>2015-10-30T08:59:32Z</td>\n",
       "      <td>2019-04-25T09:08:16Z</td>\n",
       "      <td>AmazonBasics AAA Performance Alkaline Batterie...</td>\n",
       "      <td>B00QWO9P0O,B00LH3DMUO</td>\n",
       "      <td>Amazonbasics</td>\n",
       "      <td>AA,AAA,Health,Electronics,Health &amp; Household,C...</td>\n",
       "      <td>Health &amp; Beauty</td>\n",
       "      <td>https://images-na.ssl-images-amazon.com/images...</td>\n",
       "      <td>amazonbasics/hl002619,amazonbasicsaaaperforman...</td>\n",
       "      <td>...</td>\n",
       "      <td>NaN</td>\n",
       "      <td>NaN</td>\n",
       "      <td>NaN</td>\n",
       "      <td>NaN</td>\n",
       "      <td>4</td>\n",
       "      <td>https://www.amazon.com/product-reviews/B00QWO9...</td>\n",
       "      <td>Bulk is always the less expensive way to go fo...</td>\n",
       "      <td>... always the less expensive way to go for pr...</td>\n",
       "      <td>ByMG</td>\n",
       "      <td>https://www.barcodable.com/upc/841710106442,ht...</td>\n",
       "    </tr>\n",
       "    <tr>\n",
       "      <th>2</th>\n",
       "      <td>AVpgNzjwLJeJML43Kpxn</td>\n",
       "      <td>2015-10-30T08:59:32Z</td>\n",
       "      <td>2019-04-25T09:08:16Z</td>\n",
       "      <td>AmazonBasics AAA Performance Alkaline Batterie...</td>\n",
       "      <td>B00QWO9P0O,B00LH3DMUO</td>\n",
       "      <td>Amazonbasics</td>\n",
       "      <td>AA,AAA,Health,Electronics,Health &amp; Household,C...</td>\n",
       "      <td>Health &amp; Beauty</td>\n",
       "      <td>https://images-na.ssl-images-amazon.com/images...</td>\n",
       "      <td>amazonbasics/hl002619,amazonbasicsaaaperforman...</td>\n",
       "      <td>...</td>\n",
       "      <td>NaN</td>\n",
       "      <td>NaN</td>\n",
       "      <td>NaN</td>\n",
       "      <td>NaN</td>\n",
       "      <td>5</td>\n",
       "      <td>https://www.amazon.com/product-reviews/B00QWO9...</td>\n",
       "      <td>Well they are not Duracell but for the price i...</td>\n",
       "      <td>... are not Duracell but for the price i am ha...</td>\n",
       "      <td>BySharon Lambert</td>\n",
       "      <td>https://www.barcodable.com/upc/841710106442,ht...</td>\n",
       "    </tr>\n",
       "    <tr>\n",
       "      <th>3</th>\n",
       "      <td>AVpgNzjwLJeJML43Kpxn</td>\n",
       "      <td>2015-10-30T08:59:32Z</td>\n",
       "      <td>2019-04-25T09:08:16Z</td>\n",
       "      <td>AmazonBasics AAA Performance Alkaline Batterie...</td>\n",
       "      <td>B00QWO9P0O,B00LH3DMUO</td>\n",
       "      <td>Amazonbasics</td>\n",
       "      <td>AA,AAA,Health,Electronics,Health &amp; Household,C...</td>\n",
       "      <td>Health &amp; Beauty</td>\n",
       "      <td>https://images-na.ssl-images-amazon.com/images...</td>\n",
       "      <td>amazonbasics/hl002619,amazonbasicsaaaperforman...</td>\n",
       "      <td>...</td>\n",
       "      <td>NaN</td>\n",
       "      <td>NaN</td>\n",
       "      <td>NaN</td>\n",
       "      <td>NaN</td>\n",
       "      <td>5</td>\n",
       "      <td>https://www.amazon.com/product-reviews/B00QWO9...</td>\n",
       "      <td>Seem to work as well as name brand batteries a...</td>\n",
       "      <td>... as well as name brand batteries at a much ...</td>\n",
       "      <td>Bymark sexson</td>\n",
       "      <td>https://www.barcodable.com/upc/841710106442,ht...</td>\n",
       "    </tr>\n",
       "    <tr>\n",
       "      <th>4</th>\n",
       "      <td>AVpgNzjwLJeJML43Kpxn</td>\n",
       "      <td>2015-10-30T08:59:32Z</td>\n",
       "      <td>2019-04-25T09:08:16Z</td>\n",
       "      <td>AmazonBasics AAA Performance Alkaline Batterie...</td>\n",
       "      <td>B00QWO9P0O,B00LH3DMUO</td>\n",
       "      <td>Amazonbasics</td>\n",
       "      <td>AA,AAA,Health,Electronics,Health &amp; Household,C...</td>\n",
       "      <td>Health &amp; Beauty</td>\n",
       "      <td>https://images-na.ssl-images-amazon.com/images...</td>\n",
       "      <td>amazonbasics/hl002619,amazonbasicsaaaperforman...</td>\n",
       "      <td>...</td>\n",
       "      <td>NaN</td>\n",
       "      <td>NaN</td>\n",
       "      <td>NaN</td>\n",
       "      <td>NaN</td>\n",
       "      <td>5</td>\n",
       "      <td>https://www.amazon.com/product-reviews/B00QWO9...</td>\n",
       "      <td>These batteries are very long lasting the pric...</td>\n",
       "      <td>... batteries are very long lasting the price ...</td>\n",
       "      <td>Bylinda</td>\n",
       "      <td>https://www.barcodable.com/upc/841710106442,ht...</td>\n",
       "    </tr>\n",
       "  </tbody>\n",
       "</table>\n",
       "<p>5 rows × 24 columns</p>\n",
       "</div>"
      ],
      "text/plain": [
       "                     id             dateAdded           dateUpdated  \\\n",
       "0  AVpgNzjwLJeJML43Kpxn  2015-10-30T08:59:32Z  2019-04-25T09:08:16Z   \n",
       "1  AVpgNzjwLJeJML43Kpxn  2015-10-30T08:59:32Z  2019-04-25T09:08:16Z   \n",
       "2  AVpgNzjwLJeJML43Kpxn  2015-10-30T08:59:32Z  2019-04-25T09:08:16Z   \n",
       "3  AVpgNzjwLJeJML43Kpxn  2015-10-30T08:59:32Z  2019-04-25T09:08:16Z   \n",
       "4  AVpgNzjwLJeJML43Kpxn  2015-10-30T08:59:32Z  2019-04-25T09:08:16Z   \n",
       "\n",
       "                                                name                  asins  \\\n",
       "0  AmazonBasics AAA Performance Alkaline Batterie...  B00QWO9P0O,B00LH3DMUO   \n",
       "1  AmazonBasics AAA Performance Alkaline Batterie...  B00QWO9P0O,B00LH3DMUO   \n",
       "2  AmazonBasics AAA Performance Alkaline Batterie...  B00QWO9P0O,B00LH3DMUO   \n",
       "3  AmazonBasics AAA Performance Alkaline Batterie...  B00QWO9P0O,B00LH3DMUO   \n",
       "4  AmazonBasics AAA Performance Alkaline Batterie...  B00QWO9P0O,B00LH3DMUO   \n",
       "\n",
       "          brand                                         categories  \\\n",
       "0  Amazonbasics  AA,AAA,Health,Electronics,Health & Household,C...   \n",
       "1  Amazonbasics  AA,AAA,Health,Electronics,Health & Household,C...   \n",
       "2  Amazonbasics  AA,AAA,Health,Electronics,Health & Household,C...   \n",
       "3  Amazonbasics  AA,AAA,Health,Electronics,Health & Household,C...   \n",
       "4  Amazonbasics  AA,AAA,Health,Electronics,Health & Household,C...   \n",
       "\n",
       "  primaryCategories                                          imageURLs  \\\n",
       "0   Health & Beauty  https://images-na.ssl-images-amazon.com/images...   \n",
       "1   Health & Beauty  https://images-na.ssl-images-amazon.com/images...   \n",
       "2   Health & Beauty  https://images-na.ssl-images-amazon.com/images...   \n",
       "3   Health & Beauty  https://images-na.ssl-images-amazon.com/images...   \n",
       "4   Health & Beauty  https://images-na.ssl-images-amazon.com/images...   \n",
       "\n",
       "                                                keys  ... reviews.didPurchase  \\\n",
       "0  amazonbasics/hl002619,amazonbasicsaaaperforman...  ...                 NaN   \n",
       "1  amazonbasics/hl002619,amazonbasicsaaaperforman...  ...                 NaN   \n",
       "2  amazonbasics/hl002619,amazonbasicsaaaperforman...  ...                 NaN   \n",
       "3  amazonbasics/hl002619,amazonbasicsaaaperforman...  ...                 NaN   \n",
       "4  amazonbasics/hl002619,amazonbasicsaaaperforman...  ...                 NaN   \n",
       "\n",
       "  reviews.doRecommend reviews.id reviews.numHelpful reviews.rating  \\\n",
       "0                 NaN        NaN                NaN              3   \n",
       "1                 NaN        NaN                NaN              4   \n",
       "2                 NaN        NaN                NaN              5   \n",
       "3                 NaN        NaN                NaN              5   \n",
       "4                 NaN        NaN                NaN              5   \n",
       "\n",
       "                                  reviews.sourceURLs  \\\n",
       "0  https://www.amazon.com/product-reviews/B00QWO9...   \n",
       "1  https://www.amazon.com/product-reviews/B00QWO9...   \n",
       "2  https://www.amazon.com/product-reviews/B00QWO9...   \n",
       "3  https://www.amazon.com/product-reviews/B00QWO9...   \n",
       "4  https://www.amazon.com/product-reviews/B00QWO9...   \n",
       "\n",
       "                                        reviews.text  \\\n",
       "0  I order 3 of them and one of the item is bad q...   \n",
       "1  Bulk is always the less expensive way to go fo...   \n",
       "2  Well they are not Duracell but for the price i...   \n",
       "3  Seem to work as well as name brand batteries a...   \n",
       "4  These batteries are very long lasting the pric...   \n",
       "\n",
       "                                       reviews.title  reviews.username  \\\n",
       "0  ... 3 of them and one of the item is bad quali...        Byger yang   \n",
       "1  ... always the less expensive way to go for pr...              ByMG   \n",
       "2  ... are not Duracell but for the price i am ha...  BySharon Lambert   \n",
       "3  ... as well as name brand batteries at a much ...     Bymark sexson   \n",
       "4  ... batteries are very long lasting the price ...           Bylinda   \n",
       "\n",
       "                                          sourceURLs  \n",
       "0  https://www.barcodable.com/upc/841710106442,ht...  \n",
       "1  https://www.barcodable.com/upc/841710106442,ht...  \n",
       "2  https://www.barcodable.com/upc/841710106442,ht...  \n",
       "3  https://www.barcodable.com/upc/841710106442,ht...  \n",
       "4  https://www.barcodable.com/upc/841710106442,ht...  \n",
       "\n",
       "[5 rows x 24 columns]"
      ]
     },
     "execution_count": 74,
     "metadata": {},
     "output_type": "execute_result"
    }
   ],
   "source": [
    "import pandas as pd\n",
    "\n",
    "# Load the CSV file\n",
    "file_path = \"datasets/Amazon_Reviews.csv\"\n",
    "df = pd.read_csv(file_path)\n",
    "\n",
    "# Show basic info\n",
    "print(f\"✅ Loaded {len(df):,} rows\")\n",
    "df.head()"
   ]
  },
  {
   "cell_type": "code",
   "execution_count": 75,
   "id": "42cd99e3",
   "metadata": {},
   "outputs": [
    {
     "name": "stdout",
     "output_type": "stream",
     "text": [
      "<class 'pandas.core.frame.DataFrame'>\n",
      "RangeIndex: 28332 entries, 0 to 28331\n",
      "Data columns (total 24 columns):\n",
      " #   Column               Non-Null Count  Dtype  \n",
      "---  ------               --------------  -----  \n",
      " 0   id                   28332 non-null  object \n",
      " 1   dateAdded            28332 non-null  object \n",
      " 2   dateUpdated          28332 non-null  object \n",
      " 3   name                 28332 non-null  object \n",
      " 4   asins                28332 non-null  object \n",
      " 5   brand                28332 non-null  object \n",
      " 6   categories           28332 non-null  object \n",
      " 7   primaryCategories    28332 non-null  object \n",
      " 8   imageURLs            28332 non-null  object \n",
      " 9   keys                 28332 non-null  object \n",
      " 10  manufacturer         28332 non-null  object \n",
      " 11  manufacturerNumber   28332 non-null  object \n",
      " 12  reviews.date         28332 non-null  object \n",
      " 13  reviews.dateSeen     28332 non-null  object \n",
      " 14  reviews.didPurchase  9 non-null      object \n",
      " 15  reviews.doRecommend  16086 non-null  object \n",
      " 16  reviews.id           41 non-null     float64\n",
      " 17  reviews.numHelpful   16115 non-null  float64\n",
      " 18  reviews.rating       28332 non-null  int64  \n",
      " 19  reviews.sourceURLs   28332 non-null  object \n",
      " 20  reviews.text         28332 non-null  object \n",
      " 21  reviews.title        28332 non-null  object \n",
      " 22  reviews.username     28327 non-null  object \n",
      " 23  sourceURLs           28332 non-null  object \n",
      "dtypes: float64(2), int64(1), object(21)\n",
      "memory usage: 5.2+ MB\n"
     ]
    }
   ],
   "source": [
    "# Step 1.1 - Explore structure\n",
    "df.columns.tolist()\n",
    "df.info()"
   ]
  },
  {
   "cell_type": "code",
   "execution_count": 76,
   "id": "7872032f",
   "metadata": {},
   "outputs": [
    {
     "name": "stdout",
     "output_type": "stream",
     "text": [
      "✅ Cleaned DataFrame shape: (28332, 6)\n"
     ]
    },
    {
     "data": {
      "text/html": [
       "<div>\n",
       "<style scoped>\n",
       "    .dataframe tbody tr th:only-of-type {\n",
       "        vertical-align: middle;\n",
       "    }\n",
       "\n",
       "    .dataframe tbody tr th {\n",
       "        vertical-align: top;\n",
       "    }\n",
       "\n",
       "    .dataframe thead th {\n",
       "        text-align: right;\n",
       "    }\n",
       "</style>\n",
       "<table border=\"1\" class=\"dataframe\">\n",
       "  <thead>\n",
       "    <tr style=\"text-align: right;\">\n",
       "      <th></th>\n",
       "      <th>name</th>\n",
       "      <th>categories</th>\n",
       "      <th>primaryCategories</th>\n",
       "      <th>reviews.text</th>\n",
       "      <th>reviews.title</th>\n",
       "      <th>reviews.rating</th>\n",
       "    </tr>\n",
       "  </thead>\n",
       "  <tbody>\n",
       "    <tr>\n",
       "      <th>0</th>\n",
       "      <td>AmazonBasics AAA Performance Alkaline Batterie...</td>\n",
       "      <td>AA,AAA,Health,Electronics,Health &amp; Household,C...</td>\n",
       "      <td>Health &amp; Beauty</td>\n",
       "      <td>I order 3 of them and one of the item is bad q...</td>\n",
       "      <td>... 3 of them and one of the item is bad quali...</td>\n",
       "      <td>3</td>\n",
       "    </tr>\n",
       "    <tr>\n",
       "      <th>1</th>\n",
       "      <td>AmazonBasics AAA Performance Alkaline Batterie...</td>\n",
       "      <td>AA,AAA,Health,Electronics,Health &amp; Household,C...</td>\n",
       "      <td>Health &amp; Beauty</td>\n",
       "      <td>Bulk is always the less expensive way to go fo...</td>\n",
       "      <td>... always the less expensive way to go for pr...</td>\n",
       "      <td>4</td>\n",
       "    </tr>\n",
       "    <tr>\n",
       "      <th>2</th>\n",
       "      <td>AmazonBasics AAA Performance Alkaline Batterie...</td>\n",
       "      <td>AA,AAA,Health,Electronics,Health &amp; Household,C...</td>\n",
       "      <td>Health &amp; Beauty</td>\n",
       "      <td>Well they are not Duracell but for the price i...</td>\n",
       "      <td>... are not Duracell but for the price i am ha...</td>\n",
       "      <td>5</td>\n",
       "    </tr>\n",
       "    <tr>\n",
       "      <th>3</th>\n",
       "      <td>AmazonBasics AAA Performance Alkaline Batterie...</td>\n",
       "      <td>AA,AAA,Health,Electronics,Health &amp; Household,C...</td>\n",
       "      <td>Health &amp; Beauty</td>\n",
       "      <td>Seem to work as well as name brand batteries a...</td>\n",
       "      <td>... as well as name brand batteries at a much ...</td>\n",
       "      <td>5</td>\n",
       "    </tr>\n",
       "    <tr>\n",
       "      <th>4</th>\n",
       "      <td>AmazonBasics AAA Performance Alkaline Batterie...</td>\n",
       "      <td>AA,AAA,Health,Electronics,Health &amp; Household,C...</td>\n",
       "      <td>Health &amp; Beauty</td>\n",
       "      <td>These batteries are very long lasting the pric...</td>\n",
       "      <td>... batteries are very long lasting the price ...</td>\n",
       "      <td>5</td>\n",
       "    </tr>\n",
       "  </tbody>\n",
       "</table>\n",
       "</div>"
      ],
      "text/plain": [
       "                                                name  \\\n",
       "0  AmazonBasics AAA Performance Alkaline Batterie...   \n",
       "1  AmazonBasics AAA Performance Alkaline Batterie...   \n",
       "2  AmazonBasics AAA Performance Alkaline Batterie...   \n",
       "3  AmazonBasics AAA Performance Alkaline Batterie...   \n",
       "4  AmazonBasics AAA Performance Alkaline Batterie...   \n",
       "\n",
       "                                          categories primaryCategories  \\\n",
       "0  AA,AAA,Health,Electronics,Health & Household,C...   Health & Beauty   \n",
       "1  AA,AAA,Health,Electronics,Health & Household,C...   Health & Beauty   \n",
       "2  AA,AAA,Health,Electronics,Health & Household,C...   Health & Beauty   \n",
       "3  AA,AAA,Health,Electronics,Health & Household,C...   Health & Beauty   \n",
       "4  AA,AAA,Health,Electronics,Health & Household,C...   Health & Beauty   \n",
       "\n",
       "                                        reviews.text  \\\n",
       "0  I order 3 of them and one of the item is bad q...   \n",
       "1  Bulk is always the less expensive way to go fo...   \n",
       "2  Well they are not Duracell but for the price i...   \n",
       "3  Seem to work as well as name brand batteries a...   \n",
       "4  These batteries are very long lasting the pric...   \n",
       "\n",
       "                                       reviews.title  reviews.rating  \n",
       "0  ... 3 of them and one of the item is bad quali...               3  \n",
       "1  ... always the less expensive way to go for pr...               4  \n",
       "2  ... are not Duracell but for the price i am ha...               5  \n",
       "3  ... as well as name brand batteries at a much ...               5  \n",
       "4  ... batteries are very long lasting the price ...               5  "
      ]
     },
     "execution_count": 76,
     "metadata": {},
     "output_type": "execute_result"
    }
   ],
   "source": [
    "# Step 2 - Clean and prep data\n",
    "df_clean = df[['name', 'categories', 'primaryCategories', 'reviews.text','reviews.title', 'reviews.rating']].copy()\n",
    "\n",
    "\n",
    "print(f\"✅ Cleaned DataFrame shape: {df_clean.shape}\")\n",
    "df_clean.head()\n"
   ]
  },
  {
   "cell_type": "code",
   "execution_count": 77,
   "id": "1e0bf24e",
   "metadata": {},
   "outputs": [
    {
     "name": "stdout",
     "output_type": "stream",
     "text": [
      "name                 0\n",
      "categories           0\n",
      "primaryCategories    0\n",
      "reviews.text         0\n",
      "reviews.title        0\n",
      "reviews.rating       0\n",
      "dtype: int64\n",
      "(0, 6)\n"
     ]
    }
   ],
   "source": [
    "print(df_clean.isnull().sum())\n",
    "print(df_clean[df_clean['reviews.text'].str.strip() == ''].shape)"
   ]
  },
  {
   "cell_type": "code",
   "execution_count": 78,
   "id": "a1f92277",
   "metadata": {},
   "outputs": [
    {
     "name": "stdout",
     "output_type": "stream",
     "text": [
      "✅ Cleaned data\n"
     ]
    },
    {
     "data": {
      "text/html": [
       "<div>\n",
       "<style scoped>\n",
       "    .dataframe tbody tr th:only-of-type {\n",
       "        vertical-align: middle;\n",
       "    }\n",
       "\n",
       "    .dataframe tbody tr th {\n",
       "        vertical-align: top;\n",
       "    }\n",
       "\n",
       "    .dataframe thead th {\n",
       "        text-align: right;\n",
       "    }\n",
       "</style>\n",
       "<table border=\"1\" class=\"dataframe\">\n",
       "  <thead>\n",
       "    <tr style=\"text-align: right;\">\n",
       "      <th></th>\n",
       "      <th>reviews.text</th>\n",
       "      <th>cleaned_text</th>\n",
       "    </tr>\n",
       "  </thead>\n",
       "  <tbody>\n",
       "    <tr>\n",
       "      <th>0</th>\n",
       "      <td>I order 3 of them and one of the item is bad q...</td>\n",
       "      <td>i order 3 of them and one of the item is bad q...</td>\n",
       "    </tr>\n",
       "    <tr>\n",
       "      <th>1</th>\n",
       "      <td>Bulk is always the less expensive way to go fo...</td>\n",
       "      <td>bulk is always the less expensive way to go fo...</td>\n",
       "    </tr>\n",
       "    <tr>\n",
       "      <th>2</th>\n",
       "      <td>Well they are not Duracell but for the price i...</td>\n",
       "      <td>well they are not duracell but for the price i...</td>\n",
       "    </tr>\n",
       "    <tr>\n",
       "      <th>3</th>\n",
       "      <td>Seem to work as well as name brand batteries a...</td>\n",
       "      <td>seem to work as well as name brand batteries a...</td>\n",
       "    </tr>\n",
       "    <tr>\n",
       "      <th>4</th>\n",
       "      <td>These batteries are very long lasting the pric...</td>\n",
       "      <td>these batteries are very long lasting the pric...</td>\n",
       "    </tr>\n",
       "  </tbody>\n",
       "</table>\n",
       "</div>"
      ],
      "text/plain": [
       "                                        reviews.text  \\\n",
       "0  I order 3 of them and one of the item is bad q...   \n",
       "1  Bulk is always the less expensive way to go fo...   \n",
       "2  Well they are not Duracell but for the price i...   \n",
       "3  Seem to work as well as name brand batteries a...   \n",
       "4  These batteries are very long lasting the pric...   \n",
       "\n",
       "                                        cleaned_text  \n",
       "0  i order 3 of them and one of the item is bad q...  \n",
       "1  bulk is always the less expensive way to go fo...  \n",
       "2  well they are not duracell but for the price i...  \n",
       "3  seem to work as well as name brand batteries a...  \n",
       "4  these batteries are very long lasting the pric...  "
      ]
     },
     "execution_count": 78,
     "metadata": {},
     "output_type": "execute_result"
    }
   ],
   "source": [
    "import re\n",
    "\n",
    "# Drop rows with missing review text or rating\n",
    "df = df.dropna(subset=[\"reviews.text\", \"reviews.rating\"])\n",
    "\n",
    "# Clean the review text\n",
    "def clean_text(text):\n",
    "    text = text.lower()  # lowercase\n",
    "    text = re.sub(r\"<.*?>\", \" \", text)  # remove HTML tags\n",
    "    text = re.sub(r\"[^\\w\\s]\", \" \", text)  # remove punctuation\n",
    "    text = re.sub(r\"\\s+\", \" \", text)  # remove extra whitespace\n",
    "    return text.strip()\n",
    "\n",
    "df[\"cleaned_text\"] = df[\"reviews.text\"].apply(clean_text)\n",
    "\n",
    "print(\"✅ Cleaned data\")\n",
    "df[[\"reviews.text\", \"cleaned_text\"]].head()"
   ]
  },
  {
   "cell_type": "code",
   "execution_count": 79,
   "id": "2b92ee04",
   "metadata": {},
   "outputs": [
    {
     "data": {
      "image/png": "[encoded data removed]",
      "text/plain": [
       "<Figure size 640x480 with 1 Axes>"
      ]
     },
     "metadata": {},
     "output_type": "display_data"
    },
    {
     "data": {
      "image/png": "[encoded data removed]",
      "text/plain": [
       "<Figure size 640x480 with 1 Axes>"
      ]
     },
     "metadata": {},
     "output_type": "display_data"
    }
   ],
   "source": [
    "import matplotlib.pyplot as plt\n",
    "\n",
    "# Ratings distribution\n",
    "df['reviews.rating'].hist(bins=5)\n",
    "plt.title(\"Distribution of Review Ratings\")\n",
    "plt.xlabel(\"Rating\")\n",
    "plt.ylabel(\"Count\")\n",
    "plt.show()\n",
    "\n",
    "# Text length distribution\n",
    "df['text_length'] = df['cleaned_text'].str.len()\n",
    "df['text_length'].hist(bins=50)\n",
    "plt.title(\"Distribution of Review Text Length\")\n",
    "plt.xlabel(\"Number of characters\")\n",
    "plt.ylabel(\"Count\")\n",
    "plt.show()"
   ]
  },
  {
   "cell_type": "code",
   "execution_count": 80,
   "id": "edecfcc2",
   "metadata": {},
   "outputs": [
    {
     "name": "stdout",
     "output_type": "stream",
     "text": [
      "✅ Reviews after removing duplicates: 28205\n"
     ]
    }
   ],
   "source": [
    "# Remove duplicate reviews (same text, user, and product)\n",
    "df_unique = df.drop_duplicates(subset=['cleaned_text', 'reviews.username', 'asins']).reset_index(drop=True)\n",
    "print(f\"✅ Reviews after removing duplicates: {len(df_unique)}\")\n",
    "\n"
   ]
  },
  {
   "cell_type": "code",
   "execution_count": 81,
   "id": "3567b695",
   "metadata": {},
   "outputs": [
    {
     "name": "stdout",
     "output_type": "stream",
     "text": [
      "Sentiment polarity stats:\n",
      "count    28205.000000\n",
      "mean         0.353975\n",
      "std          0.291826\n",
      "min         -1.000000\n",
      "25%          0.140000\n",
      "50%          0.348611\n",
      "75%          0.550000\n",
      "max          1.000000\n",
      "Name: polarity, dtype: float64\n"
     ]
    }
   ],
   "source": [
    "from textblob import TextBlob\n",
    "\n",
    "# Compute sentiment polarity using TextBlob\n",
    "df_unique['polarity'] = df_unique['cleaned_text'].apply(lambda x: TextBlob(x).sentiment.polarity)\n",
    "\n",
    "# Summary stats\n",
    "print(\"Sentiment polarity stats:\")\n",
    "print(df_unique['polarity'].describe())"
   ]
  },
  {
   "cell_type": "code",
   "execution_count": 82,
   "id": "87261f77",
   "metadata": {},
   "outputs": [
    {
     "data": {
      "image/png": "[encoded data removed]",
      "text/plain": [
       "<Figure size 640x480 with 1 Axes>"
      ]
     },
     "metadata": {},
     "output_type": "display_data"
    }
   ],
   "source": [
    "plt.hist(df_unique['polarity'], bins=30, color='skyblue', edgecolor='black')\n",
    "plt.title(\"Distribution of Sentiment Polarity (TextBlob)\")\n",
    "plt.xlabel(\"Polarity Score\")\n",
    "plt.ylabel(\"Count\")\n",
    "plt.show()"
   ]
  },
  {
   "cell_type": "code",
   "execution_count": 83,
   "id": "da9d9429",
   "metadata": {},
   "outputs": [],
   "source": [
    "# Polarity → Sentiment label\n",
    "def label_sentiment(p):\n",
    "    if p <= -0.1:\n",
    "        return \"negative\"\n",
    "    elif p >= 0.1:\n",
    "        return \"positive\"\n",
    "    else:\n",
    "        return \"neutral\"\n",
    "\n",
    "df_unique['sentiment_label'] = df_unique['polarity'].apply(label_sentiment)\n",
    "\n",
    "# Rating → Label\n",
    "def label_rating(r):\n",
    "    if r <= 2:\n",
    "        return \"low\"\n",
    "    elif r == 3:\n",
    "        return \"medium\"\n",
    "    else:\n",
    "        return \"high\"\n",
    "\n",
    "df_unique['rating_label'] = df_unique['reviews.rating'].apply(label_rating)"
   ]
  },
  {
   "cell_type": "code",
   "execution_count": 84,
   "id": "dc8e0745",
   "metadata": {},
   "outputs": [
    {
     "name": "stdout",
     "output_type": "stream",
     "text": [
      "rating_label      high   low  medium    All\n",
      "sentiment_label                            \n",
      "negative           592   409      90   1091\n",
      "neutral           3624   737     409   4770\n",
      "positive         21213   431     700  22344\n",
      "All              25429  1577    1199  28205\n",
      "\n",
      "Mismatch count: 1023 of 28205 (3.63%)\n"
     ]
    }
   ],
   "source": [
    "# Crosstab\n",
    "mismatch_table = pd.crosstab(df_unique['sentiment_label'], df_unique['rating_label'], margins=True)\n",
    "print(mismatch_table)\n",
    "\n",
    "# Count mismatches\n",
    "mismatch_count = len(df_unique[(df_unique['sentiment_label'] == \"positive\") & (df_unique['rating_label'] == \"low\")]) + \\\n",
    "                 len(df_unique[(df_unique['sentiment_label'] == \"negative\") & (df_unique['rating_label'] == \"high\")])\n",
    "\n",
    "total_reviews = len(df_unique)\n",
    "print(f\"\\nMismatch count: {mismatch_count} of {total_reviews} ({mismatch_count / total_reviews:.2%})\")\n"
   ]
  },
  {
   "cell_type": "code",
   "execution_count": 85,
   "id": "9ca1db60",
   "metadata": {},
   "outputs": [
    {
     "name": "stdout",
     "output_type": "stream",
     "text": [
      "✅ TF-IDF Vectorized: Train shape (22564, 10000), Test shape (5641, 10000)\n"
     ]
    }
   ],
   "source": [
    "from sklearn.model_selection import train_test_split\n",
    "from sklearn.feature_extraction.text import TfidfVectorizer\n",
    "from sklearn.preprocessing import LabelEncoder\n",
    "\n",
    "# Encode sentiment labels numerically\n",
    "le = LabelEncoder()\n",
    "df_unique['sentiment_encoded'] = le.fit_transform(df_unique['sentiment_label'])\n",
    "\n",
    "# Feature & target\n",
    "X = df_unique['cleaned_text']\n",
    "y = df_unique['sentiment_encoded']\n",
    "\n",
    "# Stratified split\n",
    "X_train, X_test, y_train, y_test = train_test_split(X, y, test_size=0.2,\n",
    "                                                    stratify=y, random_state=42)\n",
    "\n",
    "# TF-IDF transform\n",
    "tfidf = TfidfVectorizer(max_features=10000, ngram_range=(1, 2), stop_words='english')\n",
    "X_train_tfidf = tfidf.fit_transform(X_train)\n",
    "X_test_tfidf = tfidf.transform(X_test)\n",
    "\n",
    "print(f\"✅ TF-IDF Vectorized: Train shape {X_train_tfidf.shape}, Test shape {X_test_tfidf.shape}\")\n"
   ]
  },
  {
   "cell_type": "code",
   "execution_count": 86,
   "id": "e6726e1b",
   "metadata": {},
   "outputs": [
    {
     "name": "stdout",
     "output_type": "stream",
     "text": [
      "Classification Report:\n",
      "              precision    recall  f1-score   support\n",
      "\n",
      "    negative       0.92      0.25      0.40       218\n",
      "     neutral       0.76      0.67      0.71       954\n",
      "    positive       0.92      0.98      0.95      4469\n",
      "\n",
      "    accuracy                           0.90      5641\n",
      "   macro avg       0.87      0.64      0.69      5641\n",
      "weighted avg       0.90      0.90      0.89      5641\n",
      "\n"
     ]
    }
   ],
   "source": [
    "from sklearn.linear_model import LogisticRegression\n",
    "from sklearn.metrics import classification_report, confusion_matrix\n",
    "\n",
    "# Train model\n",
    "clf = LogisticRegression(max_iter=200, random_state=42)\n",
    "clf.fit(X_train_tfidf, y_train)\n",
    "\n",
    "# Predict\n",
    "y_pred = clf.predict(X_test_tfidf)\n",
    "\n",
    "# Report\n",
    "print(\"Classification Report:\")\n",
    "print(classification_report(y_test, y_pred, target_names=le.classes_))\n"
   ]
  },
  {
   "cell_type": "code",
   "execution_count": 87,
   "id": "fc5eb354",
   "metadata": {},
   "outputs": [
    {
     "data": {
      "image/png": "[encoded data removed]",
      "text/plain": [
       "<Figure size 600x500 with 2 Axes>"
      ]
     },
     "metadata": {},
     "output_type": "display_data"
    }
   ],
   "source": [
    "import seaborn as sns\n",
    "import matplotlib.pyplot as plt\n",
    "\n",
    "cm = confusion_matrix(y_test, y_pred)\n",
    "\n",
    "plt.figure(figsize=(6,5))\n",
    "sns.heatmap(cm, annot=True, fmt=\"d\", cmap=\"Blues\",\n",
    "            xticklabels=le.classes_, yticklabels=le.classes_)\n",
    "plt.xlabel(\"Predicted\")\n",
    "plt.ylabel(\"Actual\")\n",
    "plt.title(\"Confusion Matrix - Logistic Regression\")\n",
    "plt.show()\n"
   ]
  },
  {
   "cell_type": "code",
   "execution_count": 88,
   "id": "aab16ec5",
   "metadata": {},
   "outputs": [],
   "source": [
    "# Create DataFrame of predictions\n",
    "df_pred = pd.DataFrame({\n",
    "    'text': X_test,\n",
    "    'true_sentiment': le.inverse_transform(y_test),\n",
    "    'predicted_sentiment': le.inverse_transform(y_pred)\n",
    "}).reset_index(drop=True)\n",
    "\n",
    "# Add rating info\n",
    "df_test_info = df_unique.loc[X_test.index][['reviews.rating']].reset_index(drop=True)\n",
    "df_pred['rating'] = df_test_info['reviews.rating']\n",
    "\n",
    "# Reuse rating label function\n",
    "df_pred['rating_label'] = df_pred['rating'].apply(label_rating)\n"
   ]
  },
  {
   "cell_type": "code",
   "execution_count": 89,
   "id": "82d342f9",
   "metadata": {},
   "outputs": [
    {
     "name": "stdout",
     "output_type": "stream",
     "text": [
      "rating_label         high  low  medium   All\n",
      "predicted_sentiment                         \n",
      "negative               32   25       3    60\n",
      "neutral               603  173      65   841\n",
      "positive             4504  101     135  4740\n",
      "All                  5139  299     203  5641\n",
      "⚠️ Mismatch count: 133 of 5641 (2.36%)\n"
     ]
    }
   ],
   "source": [
    "# Cross-tab\n",
    "comparison_table = pd.crosstab(df_pred['predicted_sentiment'], df_pred['rating_label'], margins=True)\n",
    "print(comparison_table)\n",
    "\n",
    "# Count mismatches\n",
    "mismatch_count = len(df_pred[\n",
    "    ((df_pred['predicted_sentiment'] == \"positive\") & (df_pred['rating_label'] == \"low\")) |\n",
    "    ((df_pred['predicted_sentiment'] == \"negative\") & (df_pred['rating_label'] == \"high\"))\n",
    "])\n",
    "print(f\"⚠️ Mismatch count: {mismatch_count} of {len(df_pred)} ({mismatch_count / len(df_pred):.2%})\")\n"
   ]
  },
  {
   "cell_type": "code",
   "execution_count": 90,
   "id": "11aabcd5",
   "metadata": {},
   "outputs": [],
   "source": [
    "# Mark mismatches\n",
    "df_pred['mismatch'] = (\n",
    "    ((df_pred['predicted_sentiment'] == \"positive\") & (df_pred['rating_label'] == \"low\")) |\n",
    "    ((df_pred['predicted_sentiment'] == \"negative\") & (df_pred['rating_label'] == \"high\"))\n",
    ")\n",
    "\n",
    "# This function maps numerical ratings to sentiment labels (consistent with y_true_rating)\n",
    "def map_rating_to_sentiment(rating):\n",
    "    if rating >= 4:\n",
    "        return 'positive'\n",
    "    elif rating == 3:\n",
    "        return 'neutral'\n",
    "    elif rating <= 2:\n",
    "        return 'negative'\n",
    "    else:\n",
    "        return None\n",
    "\n",
    "# NEW HYBRID SENTIMENT RULE: Override only on strong contradiction\n",
    "def hybrid_sentiment(row): # Renamed to 'hybrid_sentiment' to fit your flow\n",
    "    rating_sentiment = map_rating_to_sentiment(row['rating']) # Use 'rating' directly from df_pred\n",
    "    model_pred = row['predicted_sentiment']\n",
    "\n",
    "    # Strong contradiction 1: High rating (positive) but model predicted negative\n",
    "    if rating_sentiment == 'positive' and model_pred == 'negative':\n",
    "        return 'positive' # Override to positive based on rating\n",
    "\n",
    "    # Strong contradiction 2: Low rating (negative) but model predicted positive\n",
    "    elif rating_sentiment == 'negative' and model_pred == 'positive':\n",
    "        return 'negative' # Override to negative based on rating\n",
    "\n",
    "    # Otherwise, use the model's prediction\n",
    "    else:\n",
    "        return model_pred\n",
    "\n",
    "df_pred['hybrid_sentiment'] = df_pred.apply(hybrid_sentiment, axis=1)"
   ]
  },
  {
   "cell_type": "code",
   "execution_count": 91,
   "id": "7653b957",
   "metadata": {},
   "outputs": [
    {
     "name": "stdout",
     "output_type": "stream",
     "text": [
      "hybrid_sentiment\n",
      "positive    4671\n",
      "neutral      841\n",
      "negative     129\n",
      "Name: count, dtype: int64\n"
     ]
    },
    {
     "data": {
      "text/html": [
       "<div>\n",
       "<style scoped>\n",
       "    .dataframe tbody tr th:only-of-type {\n",
       "        vertical-align: middle;\n",
       "    }\n",
       "\n",
       "    .dataframe tbody tr th {\n",
       "        vertical-align: top;\n",
       "    }\n",
       "\n",
       "    .dataframe thead th {\n",
       "        text-align: right;\n",
       "    }\n",
       "</style>\n",
       "<table border=\"1\" class=\"dataframe\">\n",
       "  <thead>\n",
       "    <tr style=\"text-align: right;\">\n",
       "      <th>rating_label</th>\n",
       "      <th>high</th>\n",
       "      <th>low</th>\n",
       "      <th>medium</th>\n",
       "      <th>All</th>\n",
       "    </tr>\n",
       "    <tr>\n",
       "      <th>hybrid_sentiment</th>\n",
       "      <th></th>\n",
       "      <th></th>\n",
       "      <th></th>\n",
       "      <th></th>\n",
       "    </tr>\n",
       "  </thead>\n",
       "  <tbody>\n",
       "    <tr>\n",
       "      <th>negative</th>\n",
       "      <td>0</td>\n",
       "      <td>126</td>\n",
       "      <td>3</td>\n",
       "      <td>129</td>\n",
       "    </tr>\n",
       "    <tr>\n",
       "      <th>neutral</th>\n",
       "      <td>603</td>\n",
       "      <td>173</td>\n",
       "      <td>65</td>\n",
       "      <td>841</td>\n",
       "    </tr>\n",
       "    <tr>\n",
       "      <th>positive</th>\n",
       "      <td>4536</td>\n",
       "      <td>0</td>\n",
       "      <td>135</td>\n",
       "      <td>4671</td>\n",
       "    </tr>\n",
       "    <tr>\n",
       "      <th>All</th>\n",
       "      <td>5139</td>\n",
       "      <td>299</td>\n",
       "      <td>203</td>\n",
       "      <td>5641</td>\n",
       "    </tr>\n",
       "  </tbody>\n",
       "</table>\n",
       "</div>"
      ],
      "text/plain": [
       "rating_label      high  low  medium   All\n",
       "hybrid_sentiment                         \n",
       "negative             0  126       3   129\n",
       "neutral            603  173      65   841\n",
       "positive          4536    0     135  4671\n",
       "All               5139  299     203  5641"
      ]
     },
     "execution_count": 91,
     "metadata": {},
     "output_type": "execute_result"
    }
   ],
   "source": [
    "# Distribution of hybrid sentiment\n",
    "print(df_pred['hybrid_sentiment'].value_counts())\n",
    "\n",
    "# Cross-tab with ratings\n",
    "pd.crosstab(df_pred['hybrid_sentiment'], df_pred['rating_label'], margins=True)\n"
   ]
  },
  {
   "cell_type": "markdown",
   "id": "1c617e2a",
   "metadata": {},
   "source": [
    "| Component           | Choice                                                                   | Reason                                     |\n",
    "| ------------------- | ------------------------------------------------------------------------ | ------------------------------------------ |\n",
    "| **Text Preprocess** | Lowercase, remove HTML, punctuation                                      | Standard cleaning                          |\n",
    "| **Vectorizer**      | `TfidfVectorizer` (1–2 grams, max 10k)                                   | Good balance of interpretability and speed |\n",
    "| **Classifier**      | `LogisticRegression` (max\\_iter=200)                                     | Fast, effective baseline                   |\n",
    "| **Labeling**        | TextBlob for weak supervision (training), label encoder                  |                                            |\n",
    "| **Evaluation**      | Stratified train/test split, confusion matrix, hybrid sentiment optional |                                            |\n",
    "| **Output**          | Predicted sentiment label (`positive`, `neutral`, `negative`)            |                                            |\n"
   ]
  },
  {
   "cell_type": "code",
   "execution_count": 92,
   "id": "bcddb966",
   "metadata": {},
   "outputs": [
    {
     "name": "stdout",
     "output_type": "stream",
     "text": [
      "✅ Applied final model to full dataset\n"
     ]
    },
    {
     "data": {
      "text/html": [
       "<div>\n",
       "<style scoped>\n",
       "    .dataframe tbody tr th:only-of-type {\n",
       "        vertical-align: middle;\n",
       "    }\n",
       "\n",
       "    .dataframe tbody tr th {\n",
       "        vertical-align: top;\n",
       "    }\n",
       "\n",
       "    .dataframe thead th {\n",
       "        text-align: right;\n",
       "    }\n",
       "</style>\n",
       "<table border=\"1\" class=\"dataframe\">\n",
       "  <thead>\n",
       "    <tr style=\"text-align: right;\">\n",
       "      <th></th>\n",
       "      <th>cleaned_text</th>\n",
       "      <th>predicted_sentiment</th>\n",
       "    </tr>\n",
       "  </thead>\n",
       "  <tbody>\n",
       "    <tr>\n",
       "      <th>0</th>\n",
       "      <td>i order 3 of them and one of the item is bad q...</td>\n",
       "      <td>negative</td>\n",
       "    </tr>\n",
       "    <tr>\n",
       "      <th>1</th>\n",
       "      <td>bulk is always the less expensive way to go fo...</td>\n",
       "      <td>neutral</td>\n",
       "    </tr>\n",
       "    <tr>\n",
       "      <th>2</th>\n",
       "      <td>well they are not duracell but for the price i...</td>\n",
       "      <td>positive</td>\n",
       "    </tr>\n",
       "    <tr>\n",
       "      <th>3</th>\n",
       "      <td>seem to work as well as name brand batteries a...</td>\n",
       "      <td>positive</td>\n",
       "    </tr>\n",
       "    <tr>\n",
       "      <th>4</th>\n",
       "      <td>these batteries are very long lasting the pric...</td>\n",
       "      <td>positive</td>\n",
       "    </tr>\n",
       "  </tbody>\n",
       "</table>\n",
       "</div>"
      ],
      "text/plain": [
       "                                        cleaned_text predicted_sentiment\n",
       "0  i order 3 of them and one of the item is bad q...            negative\n",
       "1  bulk is always the less expensive way to go fo...             neutral\n",
       "2  well they are not duracell but for the price i...            positive\n",
       "3  seem to work as well as name brand batteries a...            positive\n",
       "4  these batteries are very long lasting the pric...            positive"
      ]
     },
     "execution_count": 92,
     "metadata": {},
     "output_type": "execute_result"
    }
   ],
   "source": [
    "\n",
    "# Use the fitted TF-IDF vectorizer and classifier from earlier cells\n",
    "\n",
    "# Transform the entire cleaned text column\n",
    "X_all = tfidf.transform(df_unique['cleaned_text'])\n",
    "\n",
    "# Predict sentiment\n",
    "y_all_pred = clf.predict(X_all)\n",
    "df_unique['predicted_sentiment'] = le.inverse_transform(y_all_pred)\n",
    "\n",
    "print(\"✅ Applied final model to full dataset\")\n",
    "df_unique[['cleaned_text', 'predicted_sentiment']].head()\n",
    "\n"
   ]
  },
  {
   "cell_type": "code",
   "execution_count": 93,
   "id": "f707403e",
   "metadata": {},
   "outputs": [
    {
     "name": "stdout",
     "output_type": "stream",
     "text": [
      "Predicted Sentiment Distribution:\n",
      "predicted_sentiment\n",
      "positive    23374\n",
      "neutral      4342\n",
      "negative      489\n",
      "Name: count, dtype: int64\n"
     ]
    }
   ],
   "source": [
    "# Distribution of model predictions\n",
    "print(\"Predicted Sentiment Distribution:\")\n",
    "print(df_unique['predicted_sentiment'].value_counts())"
   ]
  },
  {
   "cell_type": "code",
   "execution_count": 94,
   "id": "756c0135",
   "metadata": {},
   "outputs": [
    {
     "data": {
      "image/png": "[encoded data removed]",
      "text/plain": [
       "<Figure size 640x480 with 1 Axes>"
      ]
     },
     "metadata": {},
     "output_type": "display_data"
    }
   ],
   "source": [
    "import seaborn as sns\n",
    "import matplotlib.pyplot as plt\n",
    "\n",
    "# Plot distribution of predicted sentiment\n",
    "sns.countplot(data=df_unique, x='predicted_sentiment', order=['negative', 'neutral', 'positive'])\n",
    "plt.title(\"Sentiment Distribution (Model)\")\n",
    "plt.show()\n"
   ]
  },
  {
   "cell_type": "code",
   "execution_count": 95,
   "id": "8f1cf2ef",
   "metadata": {},
   "outputs": [
    {
     "name": "stdout",
     "output_type": "stream",
     "text": [
      "--- Training and Evaluating Random Forest Classifier ---\n",
      "\n",
      "Classification Report (Random Forest vs TextBlob Sentiment):\n",
      "              precision    recall  f1-score   support\n",
      "\n",
      "    negative       0.88      0.55      0.68       218\n",
      "     neutral       0.87      0.78      0.82       954\n",
      "    positive       0.95      0.99      0.97      4469\n",
      "\n",
      "    accuracy                           0.93      5641\n",
      "   macro avg       0.90      0.77      0.82      5641\n",
      "weighted avg       0.93      0.93      0.93      5641\n",
      "\n"
     ]
    },
    {
     "data": {
      "image/png": "[encoded data removed]",
      "text/plain": [
       "<Figure size 600x500 with 2 Axes>"
      ]
     },
     "metadata": {},
     "output_type": "display_data"
    },
    {
     "name": "stdout",
     "output_type": "stream",
     "text": [
      "\n",
      "✅ Accuracy (Random Forest vs TextBlob): 93.28%\n",
      "✅ Accuracy (Random Forest vs Rating Sentiment): 79.91%\n",
      "\n",
      "--- Random Forest Evaluation Complete ---\n"
     ]
    }
   ],
   "source": [
    "import pandas as pd\n",
    "from sklearn.ensemble import RandomForestClassifier\n",
    "from sklearn.metrics import classification_report, confusion_matrix, accuracy_score\n",
    "import seaborn as sns\n",
    "import matplotlib.pyplot as plt\n",
    "\n",
    "print(\"--- Training and Evaluating Random Forest Classifier ---\")\n",
    "\n",
    "# 1. Train the new model\n",
    "rf_clf = RandomForestClassifier(n_estimators=100, random_state=42, n_jobs=-1) # n_jobs=-1 uses all available cores\n",
    "rf_clf.fit(X_train_tfidf, y_train)\n",
    "\n",
    "# 2. Predict with the new model\n",
    "y_pred_rf = rf_clf.predict(X_test_tfidf)\n",
    "\n",
    "# 3. Report Classification Metrics (against TextBlob-derived sentiment)\n",
    "print(\"\\nClassification Report (Random Forest vs TextBlob Sentiment):\")\n",
    "print(classification_report(y_test, y_pred_rf, target_names=le.classes_))\n",
    "\n",
    "# 4. Plot Confusion Matrix (against TextBlob-derived sentiment)\n",
    "cm_rf = confusion_matrix(y_test, y_pred_rf)\n",
    "plt.figure(figsize=(6,5))\n",
    "sns.heatmap(cm_rf, annot=True, fmt=\"d\", cmap=\"Blues\",\n",
    "            xticklabels=le.classes_, yticklabels=le.classes_)\n",
    "plt.xlabel(\"Predicted\")\n",
    "plt.ylabel(\"Actual\")\n",
    "plt.title(\"Confusion Matrix - Random Forest Classifier (vs TextBlob)\")\n",
    "plt.show()\n",
    "\n",
    "# 5. Calculate Accuracy Scores\n",
    "\n",
    "# Accuracy against TextBlob-derived sentiment (y_test)\n",
    "acc_rf_textblob = accuracy_score(y_test, y_pred_rf)\n",
    "print(f\"\\n✅ Accuracy (Random Forest vs TextBlob): {acc_rf_textblob:.2%}\")\n",
    "\n",
    "# Accuracy against reviews.rating-derived sentiment\n",
    "# Ensure map_rating_to_sentiment function is available from previous cells\n",
    "# Recreate y_true_rating_cleaned and corresponding y_pred_rf_cleaned for fair comparison\n",
    "y_true_rating = df_unique.loc[y_test.index]['reviews.rating'].apply(map_rating_to_sentiment)\n",
    "y_pred_rf_labels = le.inverse_transform(y_pred_rf) # Convert RF predictions back to labels\n",
    "\n",
    "# Combine and drop NaNs for fair comparison\n",
    "combined_df_rf = pd.DataFrame({\n",
    "    'y_true_rating': y_true_rating,\n",
    "    'y_pred_rf': y_pred_rf_labels\n",
    "}).dropna()\n",
    "\n",
    "y_true_rating_cleaned_rf = combined_df_rf['y_true_rating']\n",
    "y_pred_rf_cleaned = combined_df_rf['y_pred_rf']\n",
    "\n",
    "acc_rf_rating = accuracy_score(y_true_rating_cleaned_rf, y_pred_rf_cleaned)\n",
    "print(f\"✅ Accuracy (Random Forest vs Rating Sentiment): {acc_rf_rating:.2%}\")\n",
    "\n",
    "print(\"\\n--- Random Forest Evaluation Complete ---\")"
   ]
  },
  {
   "cell_type": "code",
   "execution_count": 96,
   "id": "56a5e490",
   "metadata": {},
   "outputs": [
    {
     "name": "stdout",
     "output_type": "stream",
     "text": [
      "✅ Phase 1 artifacts saved: Models, vectorizers, and labeled data!\n"
     ]
    }
   ],
   "source": [
    "import joblib\n",
    "from pathlib import Path\n",
    "\n",
    "# Save ALL artifacts for Phase 2\n",
    "Path(\"artifacts\").mkdir(exist_ok=True)\n",
    "\n",
    "# 1. Save models and vectorizers\n",
    "joblib.dump(clf, \"artifacts/sentiment_model.joblib\")\n",
    "joblib.dump(rf_clf, \"artifacts/rf_model.joblib\")\n",
    "joblib.dump(tfidf, \"artifacts/tfidf_vectorizer.joblib\")\n",
    "joblib.dump(le, \"artifacts/label_encoder.joblib\")\n",
    "\n",
    "# 2. Save final DataFrame (with predictions)\n",
    "df_unique.to_csv(\"artifacts/reviews_with_sentiment.csv\", index=False)\n",
    "\n",
    "print(\"✅ Phase 1 artifacts saved: Models, vectorizers, and labeled data!\")"
   ]
  },
  {
   "cell_type": "markdown",
   "id": "734d587e",
   "metadata": {},
   "source": [
    "🚀 Transition to Phase 2: Category Clustering\n"
   ]
  }
 ],
 "metadata": {
  "kernelspec": {
   "display_name": "Python 3",
   "language": "python",
   "name": "python3"
  },
  "language_info": {
   "codemirror_mode": {
    "name": "ipython",
    "version": 3
   },
   "file_extension": ".py",
   "mimetype": "text/x-python",
   "name": "python",
   "nbconvert_exporter": "python",
   "pygments_lexer": "ipython3",
   "version": "3.11.9"
  }
 },
 "nbformat": 4,
 "nbformat_minor": 5
}
