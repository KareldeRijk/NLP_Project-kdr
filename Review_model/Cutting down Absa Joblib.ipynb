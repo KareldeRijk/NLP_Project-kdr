{
 "cells": [
  {
   "cell_type": "code",
   "execution_count": 6,
   "id": "76c14ca3",
   "metadata": {},
   "outputs": [
    {
     "name": "stdout",
     "output_type": "stream",
     "text": [
      "Shape of absa_results_df: (67958, 2)\n",
      "First few rows of absa_results_df:\n",
      "      label     score\n",
      "0  Positive  0.991144\n",
      "1  Positive  0.864224\n",
      "2  Positive  0.989185\n",
      "3  Positive  0.995554\n",
      "4  Positive  0.969347\n"
     ]
    },
    {
     "data": {
      "text/plain": [
       "['c:\\\\Users\\\\karel\\\\Ironhack-Bootcamp-Assignments\\\\NLP_Project-kdr\\\\Joblib files\\\\absa_results_top200.joblib']"
      ]
     },
     "execution_count": 6,
     "metadata": {},
     "output_type": "execute_result"
    }
   ],
   "source": [
    "# open absa_results joblib file to shrink it down for processing by AI\n",
    "import joblib\n",
    "import os\n",
    "import sys\n",
    "import pandas as pd\n",
    "from pathlib import Path\n",
    "\n",
    "current_dir = Path.cwd()\n",
    "parent_dir = current_dir.parent\n",
    "absa_results_path = parent_dir / 'Joblib files' /'absa_results.joblib'\n",
    "\n",
    "# absa_results is already loaded as a list in the notebook, convert to DataFrame\n",
    "absa_results_df = pd.DataFrame(joblib.load(absa_results_path))\n",
    "# Print the shape and head of the DataFrame\n",
    "print(f\"Shape of absa_results_df: {absa_results_df.shape}\")\n",
    "print(\"First few rows of absa_results_df:\")\n",
    "print(absa_results_df.head())\n",
    "\n",
    "# Save only the top 200 rows to a new joblib file\n",
    "absa_results_df_top200 = absa_results_df.head(200)\n",
    "absa_results_top200_path = parent_dir / 'Joblib files' / 'absa_results_top200.joblib'\n",
    "joblib.dump(absa_results_df_top200, absa_results_top200_path)\n"
   ]
  }
 ],
 "metadata": {
  "kernelspec": {
   "display_name": "Python 3",
   "language": "python",
   "name": "python3"
  },
  "language_info": {
   "codemirror_mode": {
    "name": "ipython",
    "version": 3
   },
   "file_extension": ".py",
   "mimetype": "text/x-python",
   "name": "python",
   "nbconvert_exporter": "python",
   "pygments_lexer": "ipython3",
   "version": "3.11.9"
  }
 },
 "nbformat": 4,
 "nbformat_minor": 5
}
