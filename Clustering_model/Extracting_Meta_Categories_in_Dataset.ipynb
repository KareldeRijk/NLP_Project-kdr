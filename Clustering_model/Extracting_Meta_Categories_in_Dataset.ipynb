{
 "cells": [
  {
   "cell_type": "code",
   "execution_count": null,
   "id": "ac4401f0",
   "metadata": {},
   "outputs": [],
   "source": []
  },
  {
   "cell_type": "markdown",
   "id": "81b82130",
   "metadata": {},
   "source": [
    "In this notebook, we will use data analysis of the dataset provided to extract 4-6 meta-categories of the different product categories that exist within the provided dataset. The reasoning for this is that we believe data analysis will allow us to capture potential 'hidden' product categories, of item categories that are semantically similar without appearing so to the human eye. \n",
    "First we will download the data, analyze it, clean it. Then we will preprocess (lemmatize) it and use a pre-trained transformer to encode the semmantic links within the product categories. Next, we will use k-means clustering, with max 4-6 clusters, on the transformed data to find the overarching \"meta-categories\" between the categories in the dataset. "
   ]
  },
  {
   "cell_type": "code",
   "execution_count": 1,
   "id": "95cf5ca5",
   "metadata": {},
   "outputs": [
    {
     "name": "stdout",
     "output_type": "stream",
     "text": [
      "Requirement already satisfied: kagglehub in c:\\users\\karel\\appdata\\local\\packages\\pythonsoftwarefoundation.python.3.11_qbz5n2kfra8p0\\localcache\\local-packages\\python311\\site-packages (0.3.12)\n",
      "Requirement already satisfied: packaging in c:\\users\\karel\\appdata\\local\\packages\\pythonsoftwarefoundation.python.3.11_qbz5n2kfra8p0\\localcache\\local-packages\\python311\\site-packages (from kagglehub) (24.2)\n",
      "Requirement already satisfied: pyyaml in c:\\users\\karel\\appdata\\local\\packages\\pythonsoftwarefoundation.python.3.11_qbz5n2kfra8p0\\localcache\\local-packages\\python311\\site-packages (from kagglehub) (6.0.2)\n",
      "Requirement already satisfied: requests in c:\\users\\karel\\appdata\\local\\packages\\pythonsoftwarefoundation.python.3.11_qbz5n2kfra8p0\\localcache\\local-packages\\python311\\site-packages (from kagglehub) (2.32.3)\n",
      "Requirement already satisfied: tqdm in c:\\users\\karel\\appdata\\local\\packages\\pythonsoftwarefoundation.python.3.11_qbz5n2kfra8p0\\localcache\\local-packages\\python311\\site-packages (from kagglehub) (4.67.1)\n",
      "Requirement already satisfied: charset-normalizer<4,>=2 in c:\\users\\karel\\appdata\\local\\packages\\pythonsoftwarefoundation.python.3.11_qbz5n2kfra8p0\\localcache\\local-packages\\python311\\site-packages (from requests->kagglehub) (3.4.1)\n",
      "Requirement already satisfied: idna<4,>=2.5 in c:\\users\\karel\\appdata\\local\\packages\\pythonsoftwarefoundation.python.3.11_qbz5n2kfra8p0\\localcache\\local-packages\\python311\\site-packages (from requests->kagglehub) (3.10)\n",
      "Requirement already satisfied: urllib3<3,>=1.21.1 in c:\\users\\karel\\appdata\\local\\packages\\pythonsoftwarefoundation.python.3.11_qbz5n2kfra8p0\\localcache\\local-packages\\python311\\site-packages (from requests->kagglehub) (2.3.0)\n",
      "Requirement already satisfied: certifi>=2017.4.17 in c:\\users\\karel\\appdata\\local\\packages\\pythonsoftwarefoundation.python.3.11_qbz5n2kfra8p0\\localcache\\local-packages\\python311\\site-packages (from requests->kagglehub) (2025.1.31)\n",
      "Requirement already satisfied: colorama in c:\\users\\karel\\appdata\\local\\packages\\pythonsoftwarefoundation.python.3.11_qbz5n2kfra8p0\\localcache\\local-packages\\python311\\site-packages (from tqdm->kagglehub) (0.4.6)\n",
      "Note: you may need to restart the kernel to use updated packages.\n",
      "Path to dataset files: C:\\Users\\karel\\.cache\\kagglehub\\datasets\\datafiniti\\consumer-reviews-of-amazon-products\\versions\\5\n"
     ]
    }
   ],
   "source": [
    "%pip install kagglehub\n",
    "\n",
    "import kagglehub\n",
    "\n",
    "# Download latest version\n",
    "path = kagglehub.dataset_download(\"datafiniti/consumer-reviews-of-amazon-products\")\n",
    "\n",
    "print(\"Path to dataset files:\", path)"
   ]
  },
  {
   "cell_type": "code",
   "execution_count": 2,
   "id": "742c45e4",
   "metadata": {},
   "outputs": [
    {
     "name": "stdout",
     "output_type": "stream",
     "text": [
      "['1429_1.csv', 'Datafiniti_Amazon_Consumer_Reviews_of_Amazon_Products.csv', 'Datafiniti_Amazon_Consumer_Reviews_of_Amazon_Products_May19.csv']\n"
     ]
    }
   ],
   "source": [
    "# Check the files in the folder \n",
    "import os\n",
    "print(os.listdir(path))"
   ]
  },
  {
   "cell_type": "code",
   "execution_count": 3,
   "id": "4ea942f3",
   "metadata": {},
   "outputs": [
    {
     "name": "stdout",
     "output_type": "stream",
     "text": [
      "Dataset shape: (34660, 21)\n",
      "Columns in the dataset: Index(['id', 'name', 'asins', 'brand', 'categories', 'keys', 'manufacturer',\n",
      "       'reviews.date', 'reviews.dateAdded', 'reviews.dateSeen',\n",
      "       'reviews.didPurchase', 'reviews.doRecommend', 'reviews.id',\n",
      "       'reviews.numHelpful', 'reviews.rating', 'reviews.sourceURLs',\n",
      "       'reviews.text', 'reviews.title', 'reviews.userCity',\n",
      "       'reviews.userProvince', 'reviews.username'],\n",
      "      dtype='object')\n",
      "Description of the dataset:\n",
      "         reviews.id  reviews.numHelpful  reviews.rating  reviews.userCity  \\\n",
      "count          1.0        34131.000000    34627.000000               0.0   \n",
      "mean   111372787.0            0.630248        4.584573               NaN   \n",
      "std            NaN           13.215775        0.735653               NaN   \n",
      "min    111372787.0            0.000000        1.000000               NaN   \n",
      "25%    111372787.0            0.000000        4.000000               NaN   \n",
      "50%    111372787.0            0.000000        5.000000               NaN   \n",
      "75%    111372787.0            0.000000        5.000000               NaN   \n",
      "max    111372787.0          814.000000        5.000000               NaN   \n",
      "\n",
      "       reviews.userProvince  \n",
      "count                   0.0  \n",
      "mean                    NaN  \n",
      "std                     NaN  \n",
      "min                     NaN  \n",
      "25%                     NaN  \n",
      "50%                     NaN  \n",
      "75%                     NaN  \n",
      "max                     NaN  \n"
     ]
    },
    {
     "name": "stderr",
     "output_type": "stream",
     "text": [
      "C:\\Users\\karel\\AppData\\Local\\Temp\\ipykernel_92400\\618624634.py:4: DtypeWarning: Columns (1,10) have mixed types. Specify dtype option on import or set low_memory=False.\n",
      "  df1 = pd.read_csv(file_path)\n"
     ]
    }
   ],
   "source": [
    "# Load the dataset into a pandas DataFrame\n",
    "import pandas as pd\n",
    "file_path = os.path.join(path, \"1429_1.csv\")\n",
    "df1 = pd.read_csv(file_path)\n",
    "# Display preliminary information about the dataset\n",
    "print(\"Dataset shape:\", df1.shape)\n",
    "print(\"Columns in the dataset:\", df1.columns)\n",
    "print(\"Description of the dataset:\\n\", df1.describe())\n"
   ]
  },
  {
   "cell_type": "code",
   "execution_count": 4,
   "id": "11f441b0",
   "metadata": {},
   "outputs": [
    {
     "name": "stdout",
     "output_type": "stream",
     "text": [
      "Dataset shape: (5000, 24)\n",
      "Columns in the dataset: Index(['id', 'dateAdded', 'dateUpdated', 'name', 'asins', 'brand',\n",
      "       'categories', 'primaryCategories', 'imageURLs', 'keys', 'manufacturer',\n",
      "       'manufacturerNumber', 'reviews.date', 'reviews.dateAdded',\n",
      "       'reviews.dateSeen', 'reviews.doRecommend', 'reviews.id',\n",
      "       'reviews.numHelpful', 'reviews.rating', 'reviews.sourceURLs',\n",
      "       'reviews.text', 'reviews.title', 'reviews.username', 'sourceURLs'],\n",
      "      dtype='object')\n",
      "Description of the dataset:\n",
      "          reviews.id  reviews.numHelpful  reviews.rating\n",
      "count  2.900000e+01         5000.000000     5000.000000\n",
      "mean   1.858740e+08            0.312400        4.596800\n",
      "std    2.084040e+07            3.111582        0.731804\n",
      "min    1.082112e+08            0.000000        1.000000\n",
      "25%    1.851185e+08            0.000000        4.000000\n",
      "50%    1.880757e+08            0.000000        5.000000\n",
      "75%    1.981949e+08            0.000000        5.000000\n",
      "max    2.027812e+08          105.000000        5.000000\n",
      "First few rows of the dataset:\n",
      "                      id             dateAdded           dateUpdated  \\\n",
      "0  AVqVGZNvQMlgsOJE6eUY  2017-03-03T16:56:05Z  2018-10-25T16:36:31Z   \n",
      "1  AVqVGZNvQMlgsOJE6eUY  2017-03-03T16:56:05Z  2018-10-25T16:36:31Z   \n",
      "2  AVqVGZNvQMlgsOJE6eUY  2017-03-03T16:56:05Z  2018-10-25T16:36:31Z   \n",
      "3  AVqVGZNvQMlgsOJE6eUY  2017-03-03T16:56:05Z  2018-10-25T16:36:31Z   \n",
      "4  AVqVGZNvQMlgsOJE6eUY  2017-03-03T16:56:05Z  2018-10-25T16:36:31Z   \n",
      "\n",
      "                                                name       asins   brand  \\\n",
      "0  Amazon Kindle E-Reader 6\" Wifi (8th Generation...  B00ZV9PXP2  Amazon   \n",
      "1  Amazon Kindle E-Reader 6\" Wifi (8th Generation...  B00ZV9PXP2  Amazon   \n",
      "2  Amazon Kindle E-Reader 6\" Wifi (8th Generation...  B00ZV9PXP2  Amazon   \n",
      "3  Amazon Kindle E-Reader 6\" Wifi (8th Generation...  B00ZV9PXP2  Amazon   \n",
      "4  Amazon Kindle E-Reader 6\" Wifi (8th Generation...  B00ZV9PXP2  Amazon   \n",
      "\n",
      "                                          categories primaryCategories  \\\n",
      "0  Computers,Electronics Features,Tablets,Electro...       Electronics   \n",
      "1  Computers,Electronics Features,Tablets,Electro...       Electronics   \n",
      "2  Computers,Electronics Features,Tablets,Electro...       Electronics   \n",
      "3  Computers,Electronics Features,Tablets,Electro...       Electronics   \n",
      "4  Computers,Electronics Features,Tablets,Electro...       Electronics   \n",
      "\n",
      "                                           imageURLs  \\\n",
      "0  https://pisces.bbystatic.com/image2/BestBuy_US...   \n",
      "1  https://pisces.bbystatic.com/image2/BestBuy_US...   \n",
      "2  https://pisces.bbystatic.com/image2/BestBuy_US...   \n",
      "3  https://pisces.bbystatic.com/image2/BestBuy_US...   \n",
      "4  https://pisces.bbystatic.com/image2/BestBuy_US...   \n",
      "\n",
      "                                                keys  ...  \\\n",
      "0  allnewkindleereaderblack6glarefreetouchscreend...  ...   \n",
      "1  allnewkindleereaderblack6glarefreetouchscreend...  ...   \n",
      "2  allnewkindleereaderblack6glarefreetouchscreend...  ...   \n",
      "3  allnewkindleereaderblack6glarefreetouchscreend...  ...   \n",
      "4  allnewkindleereaderblack6glarefreetouchscreend...  ...   \n",
      "\n",
      "                                    reviews.dateSeen reviews.doRecommend  \\\n",
      "0  2018-05-27T00:00:00Z,2017-09-18T00:00:00Z,2017...               False   \n",
      "1  2018-05-27T00:00:00Z,2017-07-07T00:00:00Z,2017...                True   \n",
      "2                               2018-05-27T00:00:00Z                True   \n",
      "3                               2018-10-09T00:00:00Z                True   \n",
      "4                               2018-05-27T00:00:00Z                True   \n",
      "\n",
      "    reviews.id reviews.numHelpful reviews.rating  \\\n",
      "0          NaN                  0              3   \n",
      "1          NaN                  0              5   \n",
      "2          NaN                  0              4   \n",
      "3  177283626.0                  3              5   \n",
      "4          NaN                  0              5   \n",
      "\n",
      "                                  reviews.sourceURLs  \\\n",
      "0  http://reviews.bestbuy.com/3545/5442403/review...   \n",
      "1  http://reviews.bestbuy.com/3545/5442403/review...   \n",
      "2  https://reviews.bestbuy.com/3545/5442403/revie...   \n",
      "3  https://redsky.target.com/groot-domain-api/v1/...   \n",
      "4  https://reviews.bestbuy.com/3545/5442403/revie...   \n",
      "\n",
      "                                        reviews.text  \\\n",
      "0  I thought it would be as big as small paper bu...   \n",
      "1  This kindle is light and easy to use especiall...   \n",
      "2  Didnt know how much i'd use a kindle so went f...   \n",
      "3  I am 100 happy with my purchase. I caught it o...   \n",
      "4  Solid entry level Kindle. Great for kids. Gift...   \n",
      "\n",
      "                                  reviews.title  reviews.username  \\\n",
      "0                                     Too small            llyyue   \n",
      "1  Great light reader. Easy to use at the beach            Charmi   \n",
      "2                           Great for the price      johnnyjojojo   \n",
      "3                                   A Great Buy           Kdperry   \n",
      "4      Solid entry-level Kindle. Great for kids       Johnnyblack   \n",
      "\n",
      "                                          sourceURLs  \n",
      "0  https://www.newegg.com/Product/Product.aspx%25...  \n",
      "1  https://www.newegg.com/Product/Product.aspx%25...  \n",
      "2  https://www.newegg.com/Product/Product.aspx%25...  \n",
      "3  https://www.newegg.com/Product/Product.aspx%25...  \n",
      "4  https://www.newegg.com/Product/Product.aspx%25...  \n",
      "\n",
      "[5 rows x 24 columns]\n"
     ]
    }
   ],
   "source": [
    "# Load the dataset into a pandas DataFrame\n",
    "import pandas as pd\n",
    "file_path = os.path.join(path, \"Datafiniti_Amazon_Consumer_Reviews_of_Amazon_Products.csv\")\n",
    "df2 = pd.read_csv(file_path)\n",
    "# Display preliminary information about the dataset\n",
    "print(\"Dataset shape:\", df2.shape)\n",
    "print(\"Columns in the dataset:\", df2.columns)\n",
    "print(\"Description of the dataset:\\n\", df2.describe())\n",
    "# Display the first few rows of the DataFrame\n",
    "print(\"First few rows of the dataset:\\n\", df2.head())"
   ]
  },
  {
   "cell_type": "code",
   "execution_count": 5,
   "id": "3628e21d",
   "metadata": {},
   "outputs": [
    {
     "name": "stdout",
     "output_type": "stream",
     "text": [
      "Dataset shape: (28332, 24)\n",
      "Columns in the dataset: Index(['id', 'dateAdded', 'dateUpdated', 'name', 'asins', 'brand',\n",
      "       'categories', 'primaryCategories', 'imageURLs', 'keys', 'manufacturer',\n",
      "       'manufacturerNumber', 'reviews.date', 'reviews.dateSeen',\n",
      "       'reviews.didPurchase', 'reviews.doRecommend', 'reviews.id',\n",
      "       'reviews.numHelpful', 'reviews.rating', 'reviews.sourceURLs',\n",
      "       'reviews.text', 'reviews.title', 'reviews.username', 'sourceURLs'],\n",
      "      dtype='object')\n",
      "Description of the dataset:\n",
      "          reviews.id  reviews.numHelpful  reviews.rating\n",
      "count  4.100000e+01        16115.000000    28332.000000\n",
      "mean   1.840066e+08            0.529321        4.514048\n",
      "std    2.337036e+07            9.345017        0.934957\n",
      "min    1.116244e+08            0.000000        1.000000\n",
      "25%    1.843344e+08            0.000000        4.000000\n",
      "50%    1.885078e+08            0.000000        5.000000\n",
      "75%    1.988160e+08            0.000000        5.000000\n",
      "max    2.085304e+08          621.000000        5.000000\n"
     ]
    }
   ],
   "source": [
    "\n",
    "# Load the dataset into a pandas DataFrame\n",
    "import pandas as pd\n",
    "file_path = os.path.join(path, \"Datafiniti_Amazon_Consumer_Reviews_of_Amazon_Products_May19.csv\")\n",
    "df3 = pd.read_csv(file_path)\n",
    "# Display preliminary information about the dataset\n",
    "print(\"Dataset shape:\", df3.shape)\n",
    "print(\"Columns in the dataset:\", df3.columns)\n",
    "print(\"Description of the dataset:\\n\", df3.describe())"
   ]
  },
  {
   "cell_type": "code",
   "execution_count": 6,
   "id": "597f9e8c",
   "metadata": {},
   "outputs": [],
   "source": [
    "# For all datasets, drop the columns that are not needed to build a model that clusters product categories\n",
    "columns_to_keep = ['name', 'categories', 'primaryCategories']\n",
    "columns_to_drop1 = [col for col in df1.columns if col not in columns_to_keep]\n",
    "df1.drop(columns=columns_to_drop1, inplace=True)\n",
    "columns_to_drop2 = [col for col in df2.columns if col not in columns_to_keep]\n",
    "df2.drop(columns=columns_to_drop2, inplace=True)\n",
    "columns_to_drop3 = [col for col in df3.columns if col not in columns_to_keep]\n",
    "df3.drop(columns=columns_to_drop3, inplace=True)\n",
    "# Concatenate the three DataFrames into one\n",
    "df = pd.concat([df1, df2, df3], ignore_index=True)\n",
    "\n",
    "\n",
    "\n",
    "\n"
   ]
  },
  {
   "cell_type": "code",
   "execution_count": 7,
   "id": "c49db709",
   "metadata": {},
   "outputs": [
    {
     "name": "stdout",
     "output_type": "stream",
     "text": [
      "Combined dataset shape: (81, 3)\n",
      "Columns in the combined dataset: Index(['name', 'categories', 'primaryCategories'], dtype='object')\n",
      "Description of the combined dataset:\n",
      "                                                      name  \\\n",
      "count                                                  81   \n",
      "unique                                                 79   \n",
      "top     Amazon Echo Show Alexa-enabled Bluetooth Speak...   \n",
      "freq                                                    2   \n",
      "\n",
      "                                               categories primaryCategories  \n",
      "count                                                  81                81  \n",
      "unique                                                 76                10  \n",
      "top     Fire Tablets,Tablets,All Tablets,Amazon Tablet...       Electronics  \n",
      "freq                                                    4                59  \n",
      "Number of unique product names: 79\n",
      "Unique primary categories: ['Electronics' 'Electronics,Hardware' 'Office Supplies,Electronics'\n",
      " 'Electronics,Media' 'Health & Beauty' 'Office Supplies'\n",
      " 'Animals & Pet Supplies' 'Home & Garden' 'Electronics,Furniture'\n",
      " 'Toys & Games,Electronics']\n"
     ]
    }
   ],
   "source": [
    "# Remove duplicate product names, categories and primary categories\n",
    "df.drop_duplicates(subset=['name', 'categories', 'primaryCategories'], inplace=True)\n",
    "# remove Nan values\n",
    "df.dropna(subset=['name', 'categories', 'primaryCategories'], inplace=True)\n",
    "\n",
    "# Display the first few rows of the combined DataFrame\n",
    "\n",
    "print(\"Combined dataset shape:\", df.shape)\n",
    "print(\"Columns in the combined dataset:\", df.columns)\n",
    "print(\"Description of the combined dataset:\\n\", df.describe())\n",
    "print(\"Number of unique product names:\", df['name'].nunique())\n",
    "\n",
    "# Display the unique values in the 'categories' and 'primaryCategories' columns\n",
    "\n",
    "print(\"Unique primary categories:\", df['primaryCategories'].unique())\n"
   ]
  },
  {
   "cell_type": "code",
   "execution_count": 8,
   "id": "ea670dbd",
   "metadata": {},
   "outputs": [
    {
     "name": "stdout",
     "output_type": "stream",
     "text": [
      "Cleaned unique primary categories: ['electronics' 'electronicshardware' 'office supplieselectronics'\n",
      " 'electronicsmedia' 'health beauty' 'office supplies'\n",
      " 'animals pet supplies' 'home garden' 'electronicsfurniture'\n",
      " 'toys gameselectronics']\n"
     ]
    }
   ],
   "source": [
    "# Clean the text from the primary categories column\n",
    "def clean_text(text):\n",
    "    # Remove leading and trailing whitespace\n",
    "    text = text.strip()\n",
    "    # Remove special characters and digits\n",
    "    text = ''.join(char for char in text if char.isalpha() or char.isspace())\n",
    "    # Convert to lowercase\n",
    "    text = text.lower()\n",
    "    # Remove multiple spaces\n",
    "    text = ' '.join(text.split())\n",
    "    return text\n",
    "# Apply the cleaning function to the dataframe columns\n",
    "df['name'] = df['name'].apply(clean_text)\n",
    "df['categories'] = df['categories'].apply(clean_text)\n",
    "df['primaryCategories'] = df['primaryCategories'].apply(clean_text)\n",
    "# Display the cleaned unique values in the 'primaryCategories' column\n",
    "print(\"Cleaned unique primary categories:\", df['primaryCategories'].unique())"
   ]
  },
  {
   "cell_type": "markdown",
   "id": "263335e4",
   "metadata": {},
   "source": [
    "In the result above, we can see from our own observation that the primary categories can be divided into 5 categories: electronics, health beauty, office supplies, animals pet supplies and home garden. However, in order to be as thorough as possible as data scientists, we are going to analyze the categories data below to see if we can extract some hidden categories that we otherwise would have missed. \n",
    "First we will clean, tokenize and lemmatize the text in the categories and primary categories columns. Next we will use SentenceTransformer to encode semantic similarity between this cleaned text. "
   ]
  },
  {
   "cell_type": "code",
   "execution_count": 9,
   "id": "ebad23b7",
   "metadata": {},
   "outputs": [
    {
     "name": "stderr",
     "output_type": "stream",
     "text": [
      "[nltk_data] Downloading package punkt to\n",
      "[nltk_data]     C:\\Users\\karel\\AppData\\Roaming\\nltk_data...\n",
      "[nltk_data]   Package punkt is already up-to-date!\n",
      "[nltk_data] Downloading package stopwords to\n",
      "[nltk_data]     C:\\Users\\karel\\AppData\\Roaming\\nltk_data...\n",
      "[nltk_data]   Package stopwords is already up-to-date!\n",
      "[nltk_data] Downloading package wordnet to\n",
      "[nltk_data]     C:\\Users\\karel\\AppData\\Roaming\\nltk_data...\n",
      "[nltk_data]   Package wordnet is already up-to-date!\n"
     ]
    }
   ],
   "source": [
    "# Preprocess the text data for embedding\n",
    "import re\n",
    "import string\n",
    "import nltk\n",
    "from nltk.tokenize import word_tokenize\n",
    "from nltk.corpus import stopwords\n",
    "from nltk.stem import WordNetLemmatizer\n",
    "nltk.download('punkt')\n",
    "nltk.download('stopwords')\n",
    "nltk.download('wordnet')\n",
    "\n",
    "# make a local copy of the DataFrame to avoid modifying the original\n",
    "df = df.copy()\n",
    "# Use a text preprocessing pipeline to clean and prepare the text data\n",
    "# This function will tokenize, remove stopwords, punctuation, and lemmatize the text\n",
    "def text_preprocessing_pipeline(text):\n",
    "    # Step 1: Tokenize the text\n",
    "    tokens = word_tokenize(text)\n",
    "\n",
    "    # Step 2: Remove stopwords\n",
    "    stop_words = set(stopwords.words('english'))\n",
    "    tokens = [word.lower() for word in tokens if word.lower() not in stop_words]\n",
    "\n",
    "    # Step 3: Remove punctuation and numbers\n",
    "    tokens = [re.sub(r'[^a-zA-Z]', '', word) for word in tokens]  # Keep only letters\n",
    "    tokens = [word for word in tokens if word]  # Remove empty strings\n",
    "\n",
    "    # Step 4: Lemmatization\n",
    "    lemmatizer = WordNetLemmatizer()\n",
    "    lemmatized_tokens = [lemmatizer.lemmatize(word) for word in tokens]\n",
    "\n",
    "    return ' '.join(lemmatized_tokens)\n",
    "# Apply the preprocessing function to the 'name', 'categories', and 'primaryCategories' columns so that these are clean and ready for semantic embedding\n",
    "df['name'] = df['name'].apply(text_preprocessing_pipeline)\n",
    "df['categories'] = df['categories'].apply(text_preprocessing_pipeline)\n",
    "df['primaryCategories'] = df['primaryCategories'].apply(text_preprocessing_pipeline)\n",
    "# Merge the 'categories', and 'primaryCategories' columns into a single column for embedding\n",
    "df['cleaned_text'] = df['categories'] + ' ' + df['primaryCategories']"
   ]
  },
  {
   "cell_type": "code",
   "execution_count": 10,
   "id": "83e13e85",
   "metadata": {},
   "outputs": [
    {
     "name": "stdout",
     "output_type": "stream",
     "text": [
      "Requirement already satisfied: sentence-transformers in c:\\users\\karel\\appdata\\local\\packages\\pythonsoftwarefoundation.python.3.11_qbz5n2kfra8p0\\localcache\\local-packages\\python311\\site-packages (4.1.0)\n",
      "Requirement already satisfied: transformers<5.0.0,>=4.41.0 in c:\\users\\karel\\appdata\\local\\packages\\pythonsoftwarefoundation.python.3.11_qbz5n2kfra8p0\\localcache\\local-packages\\python311\\site-packages (from sentence-transformers) (4.52.4)\n",
      "Requirement already satisfied: tqdm in c:\\users\\karel\\appdata\\local\\packages\\pythonsoftwarefoundation.python.3.11_qbz5n2kfra8p0\\localcache\\local-packages\\python311\\site-packages (from sentence-transformers) (4.67.1)\n",
      "Requirement already satisfied: torch>=1.11.0 in c:\\users\\karel\\appdata\\local\\packages\\pythonsoftwarefoundation.python.3.11_qbz5n2kfra8p0\\localcache\\local-packages\\python311\\site-packages (from sentence-transformers) (2.7.1+cu128)\n",
      "Requirement already satisfied: scikit-learn in c:\\users\\karel\\appdata\\local\\packages\\pythonsoftwarefoundation.python.3.11_qbz5n2kfra8p0\\localcache\\local-packages\\python311\\site-packages (from sentence-transformers) (1.6.1)\n",
      "Requirement already satisfied: scipy in c:\\users\\karel\\appdata\\local\\packages\\pythonsoftwarefoundation.python.3.11_qbz5n2kfra8p0\\localcache\\local-packages\\python311\\site-packages (from sentence-transformers) (1.15.2)\n",
      "Requirement already satisfied: huggingface-hub>=0.20.0 in c:\\users\\karel\\appdata\\local\\packages\\pythonsoftwarefoundation.python.3.11_qbz5n2kfra8p0\\localcache\\local-packages\\python311\\site-packages (from sentence-transformers) (0.32.4)\n",
      "Requirement already satisfied: Pillow in c:\\users\\karel\\appdata\\local\\packages\\pythonsoftwarefoundation.python.3.11_qbz5n2kfra8p0\\localcache\\local-packages\\python311\\site-packages (from sentence-transformers) (11.1.0)\n",
      "Requirement already satisfied: typing_extensions>=4.5.0 in c:\\users\\karel\\appdata\\local\\packages\\pythonsoftwarefoundation.python.3.11_qbz5n2kfra8p0\\localcache\\local-packages\\python311\\site-packages (from sentence-transformers) (4.13.1)\n",
      "Requirement already satisfied: filelock in c:\\users\\karel\\appdata\\local\\packages\\pythonsoftwarefoundation.python.3.11_qbz5n2kfra8p0\\localcache\\local-packages\\python311\\site-packages (from transformers<5.0.0,>=4.41.0->sentence-transformers) (3.18.0)\n",
      "Requirement already satisfied: numpy>=1.17 in c:\\users\\karel\\appdata\\local\\packages\\pythonsoftwarefoundation.python.3.11_qbz5n2kfra8p0\\localcache\\local-packages\\python311\\site-packages (from transformers<5.0.0,>=4.41.0->sentence-transformers) (2.1.3)\n",
      "Requirement already satisfied: packaging>=20.0 in c:\\users\\karel\\appdata\\local\\packages\\pythonsoftwarefoundation.python.3.11_qbz5n2kfra8p0\\localcache\\local-packages\\python311\\site-packages (from transformers<5.0.0,>=4.41.0->sentence-transformers) (24.2)\n",
      "Requirement already satisfied: pyyaml>=5.1 in c:\\users\\karel\\appdata\\local\\packages\\pythonsoftwarefoundation.python.3.11_qbz5n2kfra8p0\\localcache\\local-packages\\python311\\site-packages (from transformers<5.0.0,>=4.41.0->sentence-transformers) (6.0.2)\n",
      "Requirement already satisfied: regex!=2019.12.17 in c:\\users\\karel\\appdata\\local\\packages\\pythonsoftwarefoundation.python.3.11_qbz5n2kfra8p0\\localcache\\local-packages\\python311\\site-packages (from transformers<5.0.0,>=4.41.0->sentence-transformers) (2024.11.6)\n",
      "Requirement already satisfied: requests in c:\\users\\karel\\appdata\\local\\packages\\pythonsoftwarefoundation.python.3.11_qbz5n2kfra8p0\\localcache\\local-packages\\python311\\site-packages (from transformers<5.0.0,>=4.41.0->sentence-transformers) (2.32.3)\n",
      "Requirement already satisfied: tokenizers<0.22,>=0.21 in c:\\users\\karel\\appdata\\local\\packages\\pythonsoftwarefoundation.python.3.11_qbz5n2kfra8p0\\localcache\\local-packages\\python311\\site-packages (from transformers<5.0.0,>=4.41.0->sentence-transformers) (0.21.1)\n",
      "Requirement already satisfied: safetensors>=0.4.3 in c:\\users\\karel\\appdata\\local\\packages\\pythonsoftwarefoundation.python.3.11_qbz5n2kfra8p0\\localcache\\local-packages\\python311\\site-packages (from transformers<5.0.0,>=4.41.0->sentence-transformers) (0.5.3)\n",
      "Requirement already satisfied: fsspec>=2023.5.0 in c:\\users\\karel\\appdata\\local\\packages\\pythonsoftwarefoundation.python.3.11_qbz5n2kfra8p0\\localcache\\local-packages\\python311\\site-packages (from huggingface-hub>=0.20.0->sentence-transformers) (2025.3.0)\n",
      "Requirement already satisfied: sympy>=1.13.3 in c:\\users\\karel\\appdata\\local\\packages\\pythonsoftwarefoundation.python.3.11_qbz5n2kfra8p0\\localcache\\local-packages\\python311\\site-packages (from torch>=1.11.0->sentence-transformers) (1.14.0)\n",
      "Requirement already satisfied: networkx in c:\\users\\karel\\appdata\\local\\packages\\pythonsoftwarefoundation.python.3.11_qbz5n2kfra8p0\\localcache\\local-packages\\python311\\site-packages (from torch>=1.11.0->sentence-transformers) (3.5)\n",
      "Requirement already satisfied: jinja2 in c:\\users\\karel\\appdata\\local\\packages\\pythonsoftwarefoundation.python.3.11_qbz5n2kfra8p0\\localcache\\local-packages\\python311\\site-packages (from torch>=1.11.0->sentence-transformers) (3.1.6)\n",
      "Requirement already satisfied: mpmath<1.4,>=1.1.0 in c:\\users\\karel\\appdata\\local\\packages\\pythonsoftwarefoundation.python.3.11_qbz5n2kfra8p0\\localcache\\local-packages\\python311\\site-packages (from sympy>=1.13.3->torch>=1.11.0->sentence-transformers) (1.3.0)\n",
      "Requirement already satisfied: colorama in c:\\users\\karel\\appdata\\local\\packages\\pythonsoftwarefoundation.python.3.11_qbz5n2kfra8p0\\localcache\\local-packages\\python311\\site-packages (from tqdm->sentence-transformers) (0.4.6)\n",
      "Requirement already satisfied: MarkupSafe>=2.0 in c:\\users\\karel\\appdata\\local\\packages\\pythonsoftwarefoundation.python.3.11_qbz5n2kfra8p0\\localcache\\local-packages\\python311\\site-packages (from jinja2->torch>=1.11.0->sentence-transformers) (3.0.2)\n",
      "Requirement already satisfied: charset-normalizer<4,>=2 in c:\\users\\karel\\appdata\\local\\packages\\pythonsoftwarefoundation.python.3.11_qbz5n2kfra8p0\\localcache\\local-packages\\python311\\site-packages (from requests->transformers<5.0.0,>=4.41.0->sentence-transformers) (3.4.1)\n",
      "Requirement already satisfied: idna<4,>=2.5 in c:\\users\\karel\\appdata\\local\\packages\\pythonsoftwarefoundation.python.3.11_qbz5n2kfra8p0\\localcache\\local-packages\\python311\\site-packages (from requests->transformers<5.0.0,>=4.41.0->sentence-transformers) (3.10)\n",
      "Requirement already satisfied: urllib3<3,>=1.21.1 in c:\\users\\karel\\appdata\\local\\packages\\pythonsoftwarefoundation.python.3.11_qbz5n2kfra8p0\\localcache\\local-packages\\python311\\site-packages (from requests->transformers<5.0.0,>=4.41.0->sentence-transformers) (2.3.0)\n",
      "Requirement already satisfied: certifi>=2017.4.17 in c:\\users\\karel\\appdata\\local\\packages\\pythonsoftwarefoundation.python.3.11_qbz5n2kfra8p0\\localcache\\local-packages\\python311\\site-packages (from requests->transformers<5.0.0,>=4.41.0->sentence-transformers) (2025.1.31)\n",
      "Requirement already satisfied: joblib>=1.2.0 in c:\\users\\karel\\appdata\\local\\packages\\pythonsoftwarefoundation.python.3.11_qbz5n2kfra8p0\\localcache\\local-packages\\python311\\site-packages (from scikit-learn->sentence-transformers) (1.4.2)\n",
      "Requirement already satisfied: threadpoolctl>=3.1.0 in c:\\users\\karel\\appdata\\local\\packages\\pythonsoftwarefoundation.python.3.11_qbz5n2kfra8p0\\localcache\\local-packages\\python311\\site-packages (from scikit-learn->sentence-transformers) (3.6.0)\n",
      "Note: you may need to restart the kernel to use updated packages.\n"
     ]
    }
   ],
   "source": [
    "%pip install sentence-transformers"
   ]
  },
  {
   "cell_type": "code",
   "execution_count": 11,
   "id": "b350a602",
   "metadata": {},
   "outputs": [
    {
     "name": "stdout",
     "output_type": "stream",
     "text": [
      "WARNING:tensorflow:From C:\\Users\\karel\\AppData\\Local\\Packages\\PythonSoftwareFoundation.Python.3.11_qbz5n2kfra8p0\\LocalCache\\local-packages\\Python311\\site-packages\\tf_keras\\src\\losses.py:2976: The name tf.losses.sparse_softmax_cross_entropy is deprecated. Please use tf.compat.v1.losses.sparse_softmax_cross_entropy instead.\n",
      "\n"
     ]
    },
    {
     "data": {
      "application/vnd.jupyter.widget-view+json": {
       "model_id": "a411ce5c639d4d66b268519f33fa7c3e",
       "version_major": 2,
       "version_minor": 0
      },
      "text/plain": [
       "Batches:   0%|          | 0/3 [00:00<?, ?it/s]"
      ]
     },
     "metadata": {},
     "output_type": "display_data"
    }
   ],
   "source": [
    "# Load a pre-trained SentenceTransformer model for semantic embedding\n",
    "from sentence_transformers import SentenceTransformer\n",
    "\n",
    "model = SentenceTransformer('all-MiniLM-L6-v2')\n",
    "unique_texts = df['cleaned_text'].unique()\n",
    "# Generate embeddings for the unique texts\n",
    "embeddings = model.encode(unique_texts, show_progress_bar=True, convert_to_tensor=True)"
   ]
  },
  {
   "cell_type": "code",
   "execution_count": 13,
   "id": "0b86560c",
   "metadata": {},
   "outputs": [
    {
     "name": "stderr",
     "output_type": "stream",
     "text": [
      "C:\\Users\\karel\\AppData\\Local\\Packages\\PythonSoftwareFoundation.Python.3.11_qbz5n2kfra8p0\\LocalCache\\local-packages\\Python311\\site-packages\\sklearn\\utils\\deprecation.py:151: FutureWarning: 'force_all_finite' was renamed to 'ensure_all_finite' in 1.6 and will be removed in 1.8.\n",
      "  warnings.warn(\n"
     ]
    },
    {
     "data": {
      "image/png": "[encoded data removed]",
      "text/plain": [
       "<Figure size 1200x800 with 1 Axes>"
      ]
     },
     "metadata": {},
     "output_type": "display_data"
    }
   ],
   "source": [
    "# Visualize the embeddings using UMAP\n",
    "import umap\n",
    "import matplotlib.pyplot as plt\n",
    "# Create a UMAP instance and fit it to the embeddings\n",
    "umap_model = umap.UMAP(n_neighbors=15, min_dist=0.1, metric='cosine')\n",
    "umap_embeddings = umap_model.fit_transform(embeddings.cpu().numpy())\n",
    "# Plot the UMAP embeddings\n",
    "plt.figure(figsize=(12, 8))\n",
    "plt.scatter(umap_embeddings[:, 0], umap_embeddings[:, 1], s=5, alpha=0.5)\n",
    "plt.title('UMAP Visualization of Product Categories Embeddings')\n",
    "plt.xlabel('UMAP Component 1')\n",
    "plt.ylabel('UMAP Component 2')\n",
    "plt.show()\n"
   ]
  },
  {
   "cell_type": "code",
   "execution_count": null,
   "id": "df227160",
   "metadata": {},
   "outputs": [],
   "source": [
    "from sklearn.cluster import KMeans\n",
    "from sklearn.metrics import silhouette_score\n",
    "\n",
    "# Try different numbers of clusters to find the optimal number\n",
    "best_score = -1\n",
    "best_k = 0\n",
    "for k in range(4, 7):\n",
    "    kmeans = KMeans(n_clusters=k, random_state=42)\n",
    "    labels = kmeans.fit_predict(embeddings)\n",
    "    score = silhouette_score(embeddings, labels)\n",
    "    if score > best_score:\n",
    "        best_score = score\n",
    "        best_k = k\n",
    "\n",
    "kmeans = KMeans(n_clusters=best_k, random_state=42)\n",
    "final_labels = kmeans.fit_predict(embeddings)"
   ]
  },
  {
   "cell_type": "code",
   "execution_count": null,
   "id": "9d615fae",
   "metadata": {},
   "outputs": [
    {
     "name": "stdout",
     "output_type": "stream",
     "text": [
      "Meta-category 2:\n",
      "['computerselectronics featurestabletselectronicsipad tabletskindle ereadersipad accessoriesusedtabletsereadersereaders accessoriescomputerstablets networkingusedcomputers accessoriesipads tabletsall tabletstablets ereaderscomputers tabletsamazontablets ebook reader electronics', 'computer accessoriestablet ereader accessoriesamazon device accessorieselectronicspower adapter cablescomputers featurescell phone accessoriescell phone battery powerdigital device accessorytablet accessoriesfeatured brandskindle fire nd generation accessorieskindle storepower adapter cableselectricalhometablets ereaderschargers adapterschargers adapterselectronics featuresfire tablet accessoriesamazon book reader accessorycell phonesamazon device accessorieshome improvementfire th generation accessoriesamazon devicescables charger electronics', 'officeebook readerselectronics featureswalmart businesstabletselectronicsamazon ereadersoffice electronicsipad tabletskindle ereadersall tabletsamazon book readercomputers tablet office supplieselectronics', 'ebook readersfire tabletselectronics featurestabletsamazon tabletscollege ipads tabletselectronicselectronics dealscollege electronicsfeatured brandsall tabletscomputers tabletsback collegeamazon devicestablets ereaders office supplieselectronics', 'ebook readersereaders accessoriesamazon book readercomputers tabletsamazon ereaderskindle ereadersereaders electronicsmedia', 'ebook readerselectronics featureswalmart businesstabletssee amazon kindle voyage wifielectronicsoffice electronicsipad tabletskindle ereadersereaders accessoriesall tabletssee amazon kindle voyage gb wifi g unlockedcomputers tablet electronics', 'computer tabletsereaders accessoriesebook readerskindle ereaders electronics', 'kindle ereaderselectronics featurescomputers tabletsereaders accessoriesereadersebook reader electronics', 'laptop computer standselectronics featuresstands holder car mountshome office furnitureelectronicsoffice school suppliescomputers featurespersonal computeroffice furniture lightingfurnitureoffice productsdesk accessory workspace organizersoffice furniture lightingcomputer add onstandscomputerstablets networkingplatforms stand shelveslaptop desktop accessorieslaptop case bagsnotebook computer stand electronics', 'portable computer accessoriesbags case sleevesaccessoriescomputers accessorieslaptop accessorieselectronicsbackpacks electronics', 'portable computer accessoriesbags case sleevesaccessoriessleevescomputers accessorieslaptop accessorieselectronicscomputers electronics', 'bag case sleevescomputers accessoriessee amazonbasics inch laptop tablet bag electronicstablet accessoriesaccessoriescomputerstablets networkingmessenger bagsbagslaptop desktop accessorieslaptop case bagslaptop accessoriescasescomputersbackpacks electronics', 'electronics featuresdrives storage blank mediahard drive pouchescomputers accessoriescomputer accessory peripheralshard drive accessorieselectronicscomputers featurespersonal computeraccessorieshard drive bag casescomputerstablets networkingdrive enclosure dockslaptop desktop accessorieshard drive bag casescarrying case bag electronics', 'computer accessoriestablet ereader accessoriesamazon device accessorieselectronicspower adapter cablescomputers featurescell phone accessoriescell phone battery powerdigital device accessorytablet accessoriesfeatured brandskindle fire nd generation accessorieskindle storekindle accessoriespower adapter cableselectricalhometablets ereaderschargers adapterschargers adapterselectronics featuresfire tablet accessoriesamazon book reader accessorycell phonesamazon device accessorieshome improvementfire th generation accessoriesamazon devicescables charger electronics', 'charger adapterscomputers accessoriesfire tablet accessorieselectronicspower adapter cablesamazon tablet accessoryamazon device accessoriesdigital device accessorytablet accessorieskindle fire nd generation accessorieskindle storepower adapter cablesamazon deviceschargers adapter electronics', 'computer accessoriescomputer accessory peripheralselectronicspower adapter cablesamazon book reader accessorydigital device accessorycables interconnectstablet ebook reader accscomputerstablets networkingusb cablessee amazon kindle fire foot micro usb cable whpower adapter cableschargers sync cable electronics', 'computerselectronics featuresebook readerstabletselectronicsamazon ereadersipad tabletskindle ereadersipad accessoriesusedtabletsereadersereaders accessoriescomputerstablets networkingusedcomputers accessoriesipads tabletsall tabletstablets ereadersamazon book readercomputers tabletsamazontablets ebook reader electronics', 'accessoriesusb cablescomputers accessoriescomputer accessory peripheralselectronicscablescables interconnects electronics', 'tablet ebook reader accsconsumer electronicscomputerstablets networkingebook reader accessorieselectronicsamazon book reader accessoryamazon device accessoriesother multipurpose batterieschargers sync cablesdigital device accessorypower adapter electronics', 'ebook readerselectronics featureswalmart businesstabletssee amazon kindle voyage wifielectronicsamazon ereadersoffice electronicsipad tabletskindle ereadersereaders accessoriesall tabletssee amazon kindle voyage gb wifi g unlockedamazon book readercomputers tablet electronics', 'ebook readersereaders accessorieselectronics featuresamazon book readercomputers tabletsamazon ereaderskindle ereadersereaders electronics', 'ebook readersereaders accessoriesamazon book readercomputers tabletsamazon ereaderskindle ereaders electronicsmedia', 'featured brandsereaders accessoriesebook readerstabletsamazon book readerelectronicscomputers tabletsamazon ereaderskindle ereadersamazon devicestablets ereadersereaders electronicsmedia', 'ereaders accessoriesebook readersamazon book readercomputers tabletsamazon ereaderskindle ereadersereaders electronicsmedia', 'ebook readerstabletselectronicsamazon ereaderskindle ereadersereadersfeatured brandsereaders accessoriesamazon book readercomputers tabletsamazon devicesamazontablets ereaders electronicsmedia', 'electronics featurescomputers accessoriescomputer accessory peripheralskeyboardselectronicsamazon device accessoriesdigital device accessorykeyboards mouse accessoriestablet accessory electronics', 'computer accessorieselectronicsamazon device accessoriesdigital device accessoryabis electronicstablet accessoriespower adapter electronics']\n",
      "\n",
      "Meta-category 4:\n",
      "['computersamazon echovirtual assistant speakersaudio video componentselectronics featurescomputer accessorieshome toolssee amazon echo show smart assistant whitesmart home automationelectronicstvs entertainmentspeakerssmart hub kitsdigital device consumer electronicswireless speakershome improvementamazon homeamazoncomputer speakersvoiceenabled smart assistant electronicshardware', 'amazon echovirtual assistant speakerselectronics featureshome toolssmart home automationtvs entertainmentspeakerssmart hub kitsdigital device wireless speakerssmart homehome improvementvoice assistantsamazon homeamazon electronicshardware', 'amazon echosmart homenetworkinghome toolshome improvementsmart home automationvoice assistantsamazon homeamazonsmart hub kitsdigital device electronicshardware', 'amazon echohome theater audiomp mp player accessorieselectronicsportable audiocompact radio stereossmart hub wireless routersfeatured brandssmart home connected livinghome securitykindle storeelectronic componentshome automationmobile bluetooth speakershome garage officeamazon taphomemobile speakerstvs electronicsportable bluetooth speakersbluetooth wireless speakerselectronics featuresfrysspeakersmobiledigital device smart homehome improvementelectronics tech toy movie musicsmart home home automation devicessmart hubsmp player accessorieshome safety securityvoice assistantsamazon homealarms sensorsportable audio electronicsamazon devicesaudiobluetooth speakersmp accessoriesall bluetooth wireless speaker electronics', 'stereosremote controlsaudio dock mini speakerskitchen dining featureshome toolselectronicsnew networkingwireless speakershome garage officeportable speakersipod audio player accessoriessmart homesurveillancehome improvementsmart home home automation devicesalarms sensorsamazon devicesamazonholiday shopkitchen dining featuresamazon echoamazon echo accessoriesnetworkingspeaker systemstvs entertainmentclearancesmart hub wireless routersfeatured brandssmart home connected livinghome securitykindle storehome automationhomevoiceenabled smart assistantsvirtual assistant speakersportable audio headphoneselectronics featuressmart home automationamazon device accessoriesspeakerssmart hub kitsdigital device home furniture clearanceconsumer electronicssmart hubshome safety securityvoice assistantsamazon homevirtual assistant speaker displaysaudio electronics', 'amazon echovirtual assistant speakerselectronics featuresnetworkinghome toolssmart home automationelectronicstvs entertainmentspeakersnew networkingsmart hub kitsdigital device speaker audio systemswireless speakerssmart homehome improvementvoice assistantsamazon homevirtual assistant speaker displayshome outdoorsamazonbluetooth speaker electronics', 'amazon echonetworkinghome toolssmart home automationsmart speakerselectronicstvs entertainmentnew networkingsmart hub kitsdigital device speaker audio systemsconsumer electronicswireless speakerssee amazon echo spot smart assistant blacksmart speaker hub accessorieshome improvementamazon homesurveillance smart home electronicsvirtual assistant speaker displayshome outdoorsamazonbluetooth speaker electronics', 'amazon echosee amazon echo st generation smart assistant smart speakerssmart speaker hub accessorieselectronicsdigital device consumer electronicshome audio home theatersmart speaker hub accessoriesamazon homesurveillance smart home electronicsamazonvoiceenabled smart assistantshome audio speaker electronics', 'amazon echohome theater audiomp mp player accessoriessmart speakerselectronicsportable audiocompact radio stereossmart hub wireless routersfeatured brandssmart home connected livinghome securitykindle storeelectronic componentshome automationsmart speaker hub accessoriesmobile bluetooth speakershome garage officeamazon taphomemobile speakerstvs electronicsportable bluetooth speakersbluetooth wireless speakerselectronics featurestv video home audiofrysmedia streamersspeakersmobiledigital device consumer electronicssmart homehome improvementelectronics tech toy movie musicsmart home home automation devicessmart hubsmp player accessorieshome safety securityvoice assistantsamazon homealarms sensorssurveillance smart home electronicsportable audio electronicsamazon devicesaudiobluetooth speakersmp accessoriesall bluetooth wireless speaker electronics', 'audio video accessoriesamazonbasicscar audio video installationelectronics featuresspeaker cableswired headset speakersaudio cableselectronicsspeakerscable adaptercables interconnectsconsumer electronicscases coverspower speaker wireaccessories suppliesvehicle electronics gps electronics', 'amazon echosmart speakerselectronicsdigital device home audio home theaterconsumer electronicssmart homesmart speaker hub accessoriesvoice assistantsamazon homesurveillance smart home electronicsamazonhome audio speaker electronics', 'consumer electronicsamazon echosmart speaker hub accessoriessmart speakersamazon homesurveillance smart home electronicsdigital device electronics', 'amazon echosmart speakerselectronicsdigital device home audio home theaterconsumer electronicssmart homesmart speaker hub accessoriesvoice assistantsamazon homesurveillance smart home electronicsamazonhome audio speaker electronicsfurniture', 'consumer electronicsamazon echoelectronics featuresmp mp player accessoriesamazon homevoiceenabled smart assistantsdigital device electronics']\n",
      "\n",
      "Meta-category 0:\n",
      "['amazon smptv video home audioelectronicselectronics dealstvs entertainmentdigital device tv home theaterfeatured brandsvideo device tv tunersconsumer electronicstv videointernet medium streamersstreaming medium playersfire tvstreaming devicesamazon devicesamazonsee amazon fire tv alexa voice remote digital electronics', 'audio video accessoriestv video home audiohome audio video accessoriesdvd caseselectronicsmedia case storagetv video audio accessoriesmedia storage organizationdisc storage walletsconsumer electronicscd dvd bluray discsblank audiovideo mediaaccessories suppliesall electronics electronics', 'electronicstvs entertainmentfeatured brandsother tv video audio accscollege tv home theaterstreaming medium playersfire tvtvs entertainment xbqxrzdteyybways shopamazon smpelectronics featurestvs home theatertv video home audioon collegemedia streamerstv home theatertv video audio accessoriesdigital device streaming medium playerscollege electronicsvideo device tv tunersconsumer electronicstv videostreaming devicesback collegeamazon devicesamazonholiday shop electronics', 'amazon smpelectronics featureskids familytv video home audiofrysdigital device consumer electronicskids familyvideo gamesinternet medium streamersstreaming medium playersfire tvhome audioconsoles electronics', 'amazon smpcategoriesstreaming medium playerselectronicsfire tvdigital device electronics']\n",
      "\n",
      "Meta-category 1:\n",
      "['computersfire tabletselectronics featurescomputer accessoriestabletstop ratedamazon tabletselectronicskids tabletsipad tabletscases bagselectronics tech toy movie musiccomputers tablet electronics', 'fire tabletscomputerstablets networkingtabletsall tabletsamazon tabletsfryscomputers tabletstablets ebook reader electronics', 'fire tabletstabletsall tabletsamazon tabletscomputers tablet electronics', 'fire tabletstabletsall tabletsamazon tablet electronics', 'electronicsipad tabletsall tabletsfire tabletstabletscomputers tablet electronics', 'computerstablets networkingtablets ebook readerscomputers tabletstabletsall tablet electronics', 'tabletsfire tabletscomputers tabletsall tablet electronics', 'fire tabletstabletscomputerstablets networkingother computer networkingcomputers tabletsall tablet electronics', 'tabletsfire tabletselectronicscomputerscomputer componentshard drive storagecomputers tabletsall tablet electronics', 'tabletsfire tabletselectronicsipad tabletsandroid tabletscomputers tabletsall tablet electronics', 'fire tabletscomputerstablets networkingelectronics featurestabletsall tabletsamazon tabletscomputers tabletselectronicsipad tabletstablets ebook reader electronics', 'fire tabletslearning toystoystabletsamazon tabletselectronics tech toy movie musiccomputers tabletskids tabletselectronicsipad tabletstablets kid toy gameselectronics', 'fire tabletscomputerstabletsall tabletsamazon tabletscomputer componentselectronicshard drive storagecomputers tablet electronics', 'fire tabletscomputerstablets networkingtabletsall tabletsamazon tabletscomputers tabletsother computer networking electronics', 'fire tabletscomputerstablets networkingandroid tabletstabletsall tabletsamazon tabletselectronicscomputers tabletsipad tabletsamazontablets ebook readerstablets ereaders electronics', 'fire tabletscomputerstablets networkingtabletsall tabletsamazon tabletscomputers tabletselectronicsamazontablets ebook readerstablets ereaders electronics', 'fire tabletstabletsamazon tabletscomputers tabletskids tablet electronics', 'fire tabletscomputerstablets networkingwalmart businesstabletsamazon tabletstablets ereaderskids tabletselectronicscomputers tabletsoffice electronicsamazontablets ebook reader electronics', 'fire tabletscomputerstablets networkingtabletsall tabletsamazon tabletscomputers tabletselectronicsamazontablets ebook reader electronics', 'fire tabletsandroid tabletstabletsall tabletsamazon tabletselectronicscomputers tabletsipad tablet electronics', 'fire tabletscomputerstablets networkingtabletsall tabletsamazon tabletscomputers tabletstablets ebook reader electronics', 'fire tabletstabletsall tabletsamazon tabletsgenuine tablet accessoriescomputers tabletselectronicsamazon electronics']\n",
      "\n",
      "Meta-category 5:\n",
      "['aaaaahealthelectronicshealth householdcamcorder batteriescamera photobatterieshousehold batteriesrobot checkaccessoriescamera batterieshealth beautyhousehold suppliesbatteries chargershealth household baby carehealth personal care health beauty', 'aaaaaelectronics featureshealthelectronicshealth householdcamcorder batteriescamera photobatterieshousehold batteriesaccessoriescamera batterieshealth beautyhousehold suppliesbatteries chargershealth household baby carehealth personal care health beauty', 'home gardenkitchen storage organizationkitchen dining barkitchen dining featuresfood storageracks holderskitchen dininghome kitchen featureshome kitchen featureshome kitchenkitchencoffee pod holderskitchen dining featuresstorage organization home garden']\n",
      "\n",
      "Meta-category 3:\n",
      "['officefile jacket file pocketsfile folder accessoriesfiles suppliesoffice solutionsoffice suppliesoffice productbusiness industrialoffice school suppliesexpanding file jacket pocketssmeadoffice productsfile folder accessoriesfiling storage bindingaccessoriesexpanding filessee file pocket expanding folder office organizer filing productsexpanding walletsfiling organizersexpanding file jacket pocket office supply', 'standard litter boxeslitter boxescat suppliespet suppliestop cat suppliespet product animal pet supply', 'home gardenoven mitt potholderskitchen dining barcookwarekitchenhome kitchencookware accessorieslinens textileskitchen dining home garden', 'carrier toteshardsided carrierscrates kennelspet supply international shipping availablecat suppliespet suppliescarriers cratescustom storesdog suppliespet productstop selection amazonpets animal pet supply', 'crate trainingcrates kennelspet supplieswhy keep waiting prime free twoday shippingcustom storesdog suppliespet productstop selection amazonpetscages cratescrates kennel animal pet supply', 'crate trainingcrates kennelspet suppliesdogscity snifferscustom storesdog suppliestop selection amazonpetspet productscages cratessee amazonbasics double door folding metal dog cra animal pet supply']\n",
      "\n"
     ]
    }
   ],
   "source": [
    "from collections import defaultdict\n",
    "\n",
    "clusters = defaultdict(list)\n",
    "for cat, label in zip(unique_texts, final_labels):\n",
    "    # Use the cleaned text as the key for clustering\n",
    "    clusters[label].append(cat)\n",
    "\n",
    "# Print to inspect\n",
    "for label, cats in clusters.items():\n",
    "    print(f\"Meta-category {label}:\")\n",
    "    print(cats)\n",
    "    print()\n"
   ]
  },
  {
   "cell_type": "markdown",
   "id": "c33c17dc",
   "metadata": {},
   "source": [
    "Now that we have created clusters via unsupervised learning, we assign human-readable names to each one by: looking at the category names in each cluster and summarizing each group using GPT. For the sake of convenience, we have let the contents of each cluster above be analysed by Claude AI to suggest names based on commonalities between the categories. This yielded the following suggestions: \n",
    "\n",
    "Meta-Category 0: Media Streaming & TV Equipment\n",
    "\n",
    "Meta-Category 1: Tablets & Mobile Computing\n",
    "\n",
    "Meta-Category 2: E-readers & Digital Reading Accessoires (makes sense that this category is big given that Amazon started out selling books)\n",
    "\n",
    "Meta-Category 3: Office supplies & Pet Products\n",
    "\n",
    "Meta-Category 4: Smart Home & Voice Assistants\n",
    "\n",
    "Meta-Category 5: Batteries & Kitchen Storage\n",
    "\n",
    "Note that categories 3 & 5 appear to contain mixed product types that don't have strong thematic coherence, suggesting they may need further refinement in the clustering analysis, or that these need a separate category. \n",
    "We believe that the best way to solve this is to use our own human common-sense to merge some meta-categories, so that we can have separate categories for Pet Products and Kitchen Storage as well.\n",
    "\n",
    "\n",
    "We suggest to merge the following Meta-Categories [Tablets & Mobile Computing + E-Readers & Digital Reading Accessoires] into : Portable Electronics. Next to that, we suggest to merge the Meta-Categories [Media Streaming & TV Equipment + Smart Home & Voice Assistants] into : Connected Home Electronics. That leaves us with the following final meta-categories:\n",
    "\n",
    "Meta-Category 1: Portable Electronics\n",
    "\n",
    "Meta-Category 2: Connected Home Electronics\n",
    "\n",
    "Meta-Category 3: Office Supplies\n",
    "\n",
    "Meta-Category 4: Pet Products\n",
    "\n",
    "Meta-Category 5: Batteries\n",
    "\n",
    "Meta-Category 6: Kitchen Storage\n"
   ]
  }
 ],
 "metadata": {
  "kernelspec": {
   "display_name": "Python 3",
   "language": "python",
   "name": "python3"
  },
  "language_info": {
   "codemirror_mode": {
    "name": "ipython",
    "version": 3
   },
   "file_extension": ".py",
   "mimetype": "text/x-python",
   "name": "python",
   "nbconvert_exporter": "python",
   "pygments_lexer": "ipython3",
   "version": "3.11.9"
  }
 },
 "nbformat": 4,
 "nbformat_minor": 5
}
